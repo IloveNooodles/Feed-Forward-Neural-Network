{
 "cells": [
  {
   "cell_type": "markdown",
   "metadata": {
    "id": "yFmg9hFG70Uq"
   },
   "source": [
    "<h1><b>Tubes A</b></h1>\n",
    "<h4>Implementasi Forward Propagation untuk Feed Forward Neural Network</h4>\n",
    "\n",
    "Anggota Kelompok:\n",
    "- 13520001 - Fayza Nadia\n",
    "- 13520014 - Muhammad Helmi Hibatullah\n",
    "- 13520026 - Muhammad Fajar Ramadhan\n",
    "- 13520029 - Muhammad Garebaldhie Er Rahman"
   ]
  },
  {
   "cell_type": "markdown",
   "metadata": {
    "id": "DPRZ_Jhf70Us"
   },
   "source": [
    "<h3><b>Class & Function</b></h3>"
   ]
  },
  {
   "cell_type": "markdown",
   "metadata": {},
   "source": [
    "#### Installing Dependencies "
   ]
  },
  {
   "cell_type": "code",
   "execution_count": 2,
   "metadata": {},
   "outputs": [
    {
     "name": "stdout",
     "output_type": "stream",
     "text": [
      "Requirement already satisfied: numpy in c:\\python\\lib\\site-packages (1.23.2)\n",
      "Requirement already satisfied: pandas in c:\\python\\lib\\site-packages (1.4.3)\n",
      "Requirement already satisfied: graphviz in c:\\python\\lib\\site-packages (0.20.1)\n",
      "Requirement already satisfied: scikit-learn in c:\\python\\lib\\site-packages (0.23.2)\n",
      "Requirement already satisfied: python-dateutil>=2.8.1 in c:\\python\\lib\\site-packages (from pandas) (2.8.2)\n",
      "Requirement already satisfied: pytz>=2020.1 in c:\\python\\lib\\site-packages (from pandas) (2022.2.1)\n",
      "Requirement already satisfied: threadpoolctl>=2.0.0 in c:\\python\\lib\\site-packages (from scikit-learn) (2.1.0)\n",
      "Requirement already satisfied: scipy>=0.19.1 in c:\\python\\lib\\site-packages (from scikit-learn) (1.8.0)\n",
      "Requirement already satisfied: joblib>=0.11 in c:\\python\\lib\\site-packages (from scikit-learn) (0.17.0)\n",
      "Requirement already satisfied: six>=1.5 in c:\\python\\lib\\site-packages (from python-dateutil>=2.8.1->pandas) (1.16.0)\n"
     ]
    }
   ],
   "source": [
    "!pip install numpy pandas graphviz scikit-learn"
   ]
  },
  {
   "cell_type": "markdown",
   "metadata": {
    "id": "bTndzbIg70Us"
   },
   "source": [
    "<b>Import</b>"
   ]
  },
  {
   "cell_type": "code",
   "execution_count": 3,
   "metadata": {
    "id": "TTGVBo6e70Us"
   },
   "outputs": [],
   "source": [
    "import math\n",
    "import random\n",
    "import numpy as np\n",
    "import json\n",
    "import os\n",
    "import pandas as pd\n",
    "from graphviz import Digraph\n",
    "from sklearn import datasets"
   ]
  },
  {
   "cell_type": "markdown",
   "metadata": {
    "id": "fwD39npi70Ut"
   },
   "source": [
    "<b>Activation</b>\n",
    "\n",
    "Class Activation adalah kelas yang berisi fungsi-fungsi aktivasi yang digunakan pada neural network. Fungsi-fungsi tersebut adalah linear, relu, sigmoid, dan softmax."
   ]
  },
  {
   "cell_type": "code",
   "execution_count": 4,
   "metadata": {
    "id": "csA8_AtN70Ut"
   },
   "outputs": [],
   "source": [
    "class Activation:\n",
    "    LINEAR = 0\n",
    "    RELU = 1\n",
    "    SIGMOID = 2\n",
    "    SOFTMAX = 3\n",
    "\n",
    "    def __init__(self, mode) -> None:\n",
    "        self.mode = mode\n",
    "\n",
    "    def __linear_calculate(self, res):\n",
    "        return res\n",
    "\n",
    "    def __sigmoid_calculate(self, res):\n",
    "        res = np.array([(1 / (1 + pow(math.e, -x))) for x in res])\n",
    "        res[res < 1e-3] = 0\n",
    "        res[res >= 1e-3] = 1\n",
    "        return res\n",
    "\n",
    "    def __relu_calculate(self, res):\n",
    "        res[res < 0] = 0\n",
    "        return res\n",
    "\n",
    "    def __softmax_calculate(self, res):\n",
    "        numerator = np.array([pow(math.e, x) for x in res])\n",
    "        denominator = np.sum([pow(math.e, x) for x in res])\n",
    "        return numerator / denominator\n",
    "\n",
    "    def calculate(self, x, w, b):\n",
    "        res = np.matmul(x, w)\n",
    "        res = np.add(res, b)\n",
    "        if self.mode == Activation.LINEAR:\n",
    "            return self.__linear_calculate(res)\n",
    "        elif self.mode == Activation.RELU:\n",
    "            return self.__relu_calculate(res)\n",
    "        elif self.mode == Activation.SIGMOID:\n",
    "            return self.__sigmoid_calculate(res)\n",
    "        elif self.mode == Activation.SOFTMAX:\n",
    "            return self.__softmax_calculate(res)\n",
    "        else:\n",
    "            raise Exception(\n",
    "                \"Mode is not implemented, please select correct mode\")\n",
    "\n",
    "    def predict(self, res):\n",
    "        if self.mode == Activation.LINEAR:\n",
    "            return res\n",
    "        elif self.mode == Activation.RELU:\n",
    "            return res\n",
    "        elif self.mode == Activation.SIGMOID:\n",
    "            return res\n",
    "        elif self.mode == Activation.SOFTMAX:\n",
    "            return res\n",
    "        else:\n",
    "            raise Exception(\n",
    "                \"Mode is not implemented, please select correct mode\")\n"
   ]
  },
  {
   "cell_type": "markdown",
   "metadata": {
    "id": "W4XHLZS270Uu"
   },
   "source": [
    "<b>Reader</b>\n",
    "\n",
    "Class Reader adalah kelas yang berfungsi untuk membaca berkas json yang berisi model FFNN."
   ]
  },
  {
   "cell_type": "code",
   "execution_count": 5,
   "metadata": {
    "id": "fNM8KP0e70Uu"
   },
   "outputs": [],
   "source": [
    "ACTIVATION_LIST = [Activation.LINEAR, Activation.RELU,\n",
    "                   Activation.SIGMOID, Activation.SOFTMAX]\n",
    "\n",
    "\n",
    "class Reader:\n",
    "    def __init__(self) -> None:\n",
    "        pass\n",
    "\n",
    "    @staticmethod\n",
    "    def read_data_excel(self, filepath: str):\n",
    "        self.filepath = filepath\n",
    "        df = pd.read_excel(filepath, index_col=False)\n",
    "        if not df['target']:\n",
    "            raise (\"Dataset must have target attribute\")\n",
    "        return df\n",
    "\n",
    "    \"\"\" \n",
    "    FFNN models are json like\n",
    "    \"\"\"\n",
    "    @staticmethod\n",
    "    def read_ffnn(filepath):\n",
    "        try:\n",
    "            with open(filepath, \"rb\") as f:\n",
    "                json_file = json.loads(f.read())\n",
    "                # Return models\n",
    "                if validate_data(json_file):\n",
    "                    return json_file\n",
    "                return None\n",
    "        except OSError as e:\n",
    "            print(\"File not found\")\n",
    "            os._exit(-1)\n",
    "\n",
    "\n",
    "def validate_data(json_data) -> bool:\n",
    "    # Validate layers\n",
    "    layers = json_data['layers']\n",
    "    activation_functions = np.array(\n",
    "        json_data['activation_functions'], dtype=np.int32)\n",
    "\n",
    "    # Neurons are input hidden output\n",
    "    neurons = np.array(json_data['neurons'], dtype=np.int32)\n",
    "    weights = json_data['weights']\n",
    "    rows = json_data['rows']\n",
    "    data = np.array(json_data['data'], dtype=np.float64)\n",
    "    data_names = np.array(json_data['data_names'], dtype=np.string_)\n",
    "    target_names = np.array(json_data['target_names'], dtype=np.string_)\n",
    "    target = np.array(json_data['target'], dtype=np.int32)\n",
    "\n",
    "    if not isinstance(layers, int):\n",
    "        raise Exception(\"Layers is not integer\")\n",
    "\n",
    "    if layers < 3:\n",
    "        raise Exception(\"Layers minimal have value of 3 (input, hidden, end)\")\n",
    "\n",
    "    # # Validate activation function per layers\n",
    "    if activation_functions.shape[0] != layers:\n",
    "        raise Exception(\"Length of activation functions is not the same\")\n",
    "\n",
    "    assert activation_functions.dtype == np.int32\n",
    "\n",
    "    for function in activation_functions:\n",
    "        if function not in ACTIVATION_LIST:\n",
    "            raise Exception(\"Invalid exception\")\n",
    "\n",
    "    # # Validate neurons\n",
    "    if neurons.shape[0] != layers:\n",
    "        raise Exception(\"Neurons number don't match with layers\")\n",
    "\n",
    "    assert neurons.dtype == np.int32\n",
    "\n",
    "    # Validate weights, weights must be layers - 1\n",
    "    if len(weights) != layers - 1:\n",
    "        raise Exception(\"Please input correct weights\")\n",
    "\n",
    "    for index, weight_per_neuron in enumerate(weights):\n",
    "        for weight_neuron in weight_per_neuron:\n",
    "            if len(weight_neuron) != neurons[index] + 1:\n",
    "                raise Exception(\n",
    "                    f\"Invalid number of weights parameter in weight {index}\")\n",
    "            np.array(weight_neuron, dtype=np.float64)\n",
    "\n",
    "    # Validate rows\n",
    "    if not isinstance(rows, int):\n",
    "        raise Exception(\"Rows is not integer\")\n",
    "\n",
    "    # data_names\n",
    "    len_data_features = data_names.shape[0]\n",
    "    assert np.issubdtype(data_names.dtype, np.string_) == True\n",
    "\n",
    "    # data attr\n",
    "    if data.shape[0] != rows:\n",
    "        raise Exception(\"Number of data doesn't match with rows\")\n",
    "\n",
    "    if data.shape[1] != len_data_features:\n",
    "        raise Exception(\"Number of data columns doesnt match\")\n",
    "\n",
    "    assert np.issubdtype(target_names.dtype, np.string_) == True\n",
    "    assert target.shape[0] == rows\n",
    "    return True\n"
   ]
  },
  {
   "cell_type": "markdown",
   "metadata": {
    "id": "TGSM1RKq70Uv"
   },
   "source": [
    "<b>FFNN Algorithm</b>\n",
    "\n",
    "Class FFNN adalah kelas yang berfungsi untuk mengimplementasikan algoritma forward propagation pada FFNN."
   ]
  },
  {
   "cell_type": "code",
   "execution_count": 6,
   "metadata": {
    "id": "kujSFF_970Uv"
   },
   "outputs": [],
   "source": [
    "class FFNN:\n",
    "    def __init__(self, model) -> None:\n",
    "        self.layers = model['layers']\n",
    "        self.activation_functions = np.array(model['activation_functions'])\n",
    "        self.neurons = np.array(model['neurons'])\n",
    "        self.weights = model['weights']\n",
    "        self.rows = model['rows']\n",
    "        self.data_names = np.array(model['data_names'])\n",
    "        self.data = np.array(model['data'])\n",
    "        self.target = np.array(model['target'])\n",
    "        self.target_names = np.array(model['target_names'])\n",
    "        self.output = None\n",
    "        pass\n",
    "\n",
    "    def __str__(self) -> str:\n",
    "        return f\"\\\n",
    "  Layers: {self.layers}\\n\\\n",
    "  Activations: {self.activation_functions}\\n\\\n",
    "  Neurons: {self.neurons}\\n\\\n",
    "  Weights: {self.weights}\\n\\\n",
    "  Rows: {self.rows}\\n\\\n",
    "  Data: {self.data}\\n\\\n",
    "  Data_names: {self.data_names}\\n\\\n",
    "  target: {self.target}\\n\\\n",
    "  target_names: {self.target_names}\\n\"\n",
    "\n",
    "    # Will return output functions\n",
    "    def compute(self):\n",
    "        res = self.data\n",
    "        for i in range(self.layers - 1):\n",
    "            activation_function = Activation(self.activation_functions[i])\n",
    "            transposed_weights = np.transpose(np.array(self.weights[i]))\n",
    "            weights, bias = self.separate_bias(transposed_weights)\n",
    "            res = activation_function.calculate(res, weights, bias)\n",
    "\n",
    "        self.output = res\n",
    "        return res\n",
    "\n",
    "    def _add_bias(self, data):\n",
    "        temp_data = np.ones((data.shape[0], data.shape[0] + 1))\n",
    "        temp_data[:, 1:] = data\n",
    "        return temp_data\n",
    "\n",
    "    def separate_bias(self, data):\n",
    "        bias = data[0, :]\n",
    "        weight = data[1:, :]\n",
    "        return weight, bias\n",
    "\n",
    "    def predict(self):\n",
    "        A = Activation(self.activation_functions[-1])\n",
    "        res = A.predict(self.output)\n",
    "        print(f\"\\\n",
    "Data Names: {self.data_names}\\n\\\n",
    "Data: {self.data}\\n\\\n",
    "Target Names: {self.target_names}\\n\\\n",
    "Target: {self.target}\\n\\\n",
    "Predictions: {np.transpose(res)}\\n\")\n"
   ]
  },
  {
   "cell_type": "markdown",
   "metadata": {
    "id": "1BAuW-l270Uv"
   },
   "source": [
    "<b>Graph</b>\n",
    "\n",
    "Class Graph adalah kelas yang berfungsi untuk menggambar grafik dari hasil forward propagation."
   ]
  },
  {
   "cell_type": "code",
   "execution_count": 9,
   "metadata": {
    "id": "A-av2U2170Uw"
   },
   "outputs": [],
   "source": [
    "class Graph:\n",
    "    def __init__(self, ffnn: FFNN, filename: str) -> None:\n",
    "        self.ffnn = ffnn\n",
    "        self.filename = filename\n",
    "        self.f = Digraph('G', filename=f'../res/{self.filename}_graph', format='png')\n",
    "\n",
    "    def draw(self):\n",
    "        self.f.attr('node', shape='circle')\n",
    "        self._add_node()\n",
    "        self._add_edge()\n",
    "        self.f.view()\n",
    "        return self.f\n",
    "\n",
    "    def _add_node(self):\n",
    "        # Add input nodes\n",
    "        self.f.node(\"b1\")\n",
    "        for data_name in self.ffnn.data_names:\n",
    "            self.f.node(data_name)\n",
    "\n",
    "        # Add nodes in the next layers\n",
    "        for layer in range(1, self.ffnn.layers - 1):\n",
    "            self.f.node(f\"b{layer+1}\")\n",
    "            for j in range(self.ffnn.neurons[layer]):\n",
    "                self.f.node(f\"h{layer}{j+1}\")\n",
    "\n",
    "    def _add_edge(self):\n",
    "        # Add edges between layers\n",
    "        for layer in range(self.ffnn.layers - 1):\n",
    "            transposed_weights = np.transpose(\n",
    "                np.array(self.ffnn.weights[layer]))\n",
    "            weights, bias = self.ffnn.separate_bias(transposed_weights)\n",
    "\n",
    "            # Add edges between bias and hidden layer or output\n",
    "            for i in range(len(bias)):\n",
    "                bias_name = f\"b{layer+1}\"\n",
    "                end = f\"h{layer+1}{i+1}\"\n",
    "                if layer == self.ffnn.layers - 2:\n",
    "                    end = f\"y{i+1}\"\n",
    "\n",
    "                self.f.edge(bias_name, end, label=f\"{bias[i]}\")\n",
    "\n",
    "            # Add edges between input and hidden layer or output\n",
    "            for i in range(self.ffnn.neurons[layer]):\n",
    "                for j in range(len(weights[i])):\n",
    "                    if layer == 0:\n",
    "                        start = self.ffnn.data_names[i]\n",
    "                        end = f\"h{layer+1}{j+1}\"\n",
    "                    elif layer == self.ffnn.layers - 2:\n",
    "                        start = f\"h{layer}{i+1}\"\n",
    "                        end = f\"y{j+1}\"\n",
    "                    else:\n",
    "                        start = f\"h{layer}{i+1}\"\n",
    "                        end = f\"h{layer+1}{j+1}\"\n",
    "                    self.f.edge(start, end, label=f\"{weights[i][j]}\")\n"
   ]
  },
  {
   "cell_type": "markdown",
   "metadata": {
    "id": "OhG2G3xB70Uw"
   },
   "source": [
    "<h3><b>Main Program</b></h3>"
   ]
  },
  {
   "cell_type": "code",
   "execution_count": 10,
   "metadata": {
    "colab": {
     "base_uri": "https://localhost:8080/"
    },
    "id": "guLieLXS70Uw",
    "outputId": "c0156af5-0122-425e-c8a6-69e2b99b7f88"
   },
   "outputs": [
    {
     "name": "stdout",
     "output_type": "stream",
     "text": [
      "=============================================\n",
      "        FEED FORWARD NEURAL NETWORK\n",
      "=============================================\n"
     ]
    },
    {
     "name": "stdin",
     "output_type": "stream",
     "text": [
      "Input filename inside test folder:  test.json\n"
     ]
    },
    {
     "name": "stdout",
     "output_type": "stream",
     "text": [
      "Data Names: ['mean radius' 'mean texture' 'mean perimeter']\n",
      "Data: [[ 13.17  21.81  85.42]\n",
      " [ 18.65  17.6  123.7 ]\n",
      " [  8.2   16.84  51.71]\n",
      " [ 13.17  18.66  85.98]\n",
      " [ 12.05  14.63  78.04]]\n",
      "Target Names: ['malignant' 'benign']\n",
      "Target: [0 0 1 0 1]\n",
      "Predictions: [[1. 1. 1. 1. 1.]]\n",
      "\n",
      "=============================================\n",
      "Graph is saved in folder res with name: test_graph.png\n",
      "=============================================\n"
     ]
    },
    {
     "data": {
      "image/svg+xml": [
       "<?xml version=\"1.0\" encoding=\"UTF-8\" standalone=\"no\"?>\n",
       "<!DOCTYPE svg PUBLIC \"-//W3C//DTD SVG 1.1//EN\"\n",
       " \"http://www.w3.org/Graphics/SVG/1.1/DTD/svg11.dtd\">\n",
       "<!-- Generated by graphviz version 7.1.0 (20230121.1956)\n",
       " -->\n",
       "<!-- Title: G Pages: 1 -->\n",
       "<svg width=\"454pt\" height=\"328pt\"\n",
       " viewBox=\"0.00 0.00 454.19 328.38\" xmlns=\"http://www.w3.org/2000/svg\" xmlns:xlink=\"http://www.w3.org/1999/xlink\">\n",
       "<g id=\"graph0\" class=\"graph\" transform=\"scale(1 1) rotate(0) translate(4 324.38)\">\n",
       "<title>G</title>\n",
       "<polygon fill=\"white\" stroke=\"none\" points=\"-4,4 -4,-324.38 450.19,-324.38 450.19,4 -4,4\"/>\n",
       "<!-- b1 -->\n",
       "<g id=\"node1\" class=\"node\">\n",
       "<title>b1</title>\n",
       "<ellipse fill=\"none\" stroke=\"black\" cx=\"276.54\" cy=\"-254.74\" rx=\"20.3\" ry=\"20.3\"/>\n",
       "<text text-anchor=\"middle\" x=\"276.54\" y=\"-251.04\" font-family=\"Times New Roman,serif\" font-size=\"14.00\">b1</text>\n",
       "</g>\n",
       "<!-- h11 -->\n",
       "<g id=\"node6\" class=\"node\">\n",
       "<title>h11</title>\n",
       "<ellipse fill=\"none\" stroke=\"black\" cx=\"238.54\" cy=\"-114.04\" rx=\"24.1\" ry=\"24.1\"/>\n",
       "<text text-anchor=\"middle\" x=\"238.54\" y=\"-110.34\" font-family=\"Times New Roman,serif\" font-size=\"14.00\">h11</text>\n",
       "</g>\n",
       "<!-- b1&#45;&gt;h11 -->\n",
       "<g id=\"edge1\" class=\"edge\">\n",
       "<title>b1&#45;&gt;h11</title>\n",
       "<path fill=\"none\" stroke=\"black\" d=\"M274.17,-234.31C271.41,-214.35 266.1,-182.55 257.54,-156.09 256.49,-152.84 255.25,-149.5 253.9,-146.2\"/>\n",
       "<polygon fill=\"black\" stroke=\"black\" points=\"257.24,-145.09 250.02,-137.34 250.83,-147.91 257.24,-145.09\"/>\n",
       "<text text-anchor=\"middle\" x=\"270.54\" y=\"-159.89\" font-family=\"Times New Roman,serif\" font-size=\"14.00\">0.1</text>\n",
       "</g>\n",
       "<!-- h12 -->\n",
       "<g id=\"node7\" class=\"node\">\n",
       "<title>h12</title>\n",
       "<ellipse fill=\"none\" stroke=\"black\" cx=\"156.54\" cy=\"-114.04\" rx=\"24.1\" ry=\"24.1\"/>\n",
       "<text text-anchor=\"middle\" x=\"156.54\" y=\"-110.34\" font-family=\"Times New Roman,serif\" font-size=\"14.00\">h12</text>\n",
       "</g>\n",
       "<!-- b1&#45;&gt;h12 -->\n",
       "<g id=\"edge2\" class=\"edge\">\n",
       "<title>b1&#45;&gt;h12</title>\n",
       "<path fill=\"none\" stroke=\"black\" d=\"M272.86,-234.39C269.04,-219.74 261.59,-200.29 247.54,-189.09 215.65,-163.66 183.69,-202.41 157.54,-171.09 152.47,-165.02 150.52,-157.15 150.22,-149.24\"/>\n",
       "<polygon fill=\"black\" stroke=\"black\" points=\"153.71,-149.5 150.71,-139.33 146.72,-149.15 153.71,-149.5\"/>\n",
       "<text text-anchor=\"middle\" x=\"166.54\" y=\"-159.89\" font-family=\"Times New Roman,serif\" font-size=\"14.00\">0.2</text>\n",
       "</g>\n",
       "<!-- mean radius -->\n",
       "<g id=\"node2\" class=\"node\">\n",
       "<title>mean radius</title>\n",
       "<ellipse fill=\"none\" stroke=\"black\" cx=\"184.54\" cy=\"-254.74\" rx=\"53.89\" ry=\"53.89\"/>\n",
       "<text text-anchor=\"middle\" x=\"184.54\" y=\"-251.04\" font-family=\"Times New Roman,serif\" font-size=\"14.00\">mean radius</text>\n",
       "</g>\n",
       "<!-- mean radius&#45;&gt;h11 -->\n",
       "<g id=\"edge3\" class=\"edge\">\n",
       "<title>mean radius&#45;&gt;h11</title>\n",
       "<path fill=\"none\" stroke=\"black\" d=\"M203.89,-204.06C211.24,-185.18 219.41,-164.19 225.97,-147.34\"/>\n",
       "<polygon fill=\"black\" stroke=\"black\" points=\"229.11,-148.92 229.48,-138.33 222.59,-146.38 229.11,-148.92\"/>\n",
       "<text text-anchor=\"middle\" x=\"230.54\" y=\"-159.89\" font-family=\"Times New Roman,serif\" font-size=\"14.00\">0.1</text>\n",
       "</g>\n",
       "<!-- mean radius&#45;&gt;h12 -->\n",
       "<g id=\"edge4\" class=\"edge\">\n",
       "<title>mean radius&#45;&gt;h12</title>\n",
       "<path fill=\"none\" stroke=\"black\" d=\"M145.47,-217.33C133.86,-204.03 122.63,-188.06 116.54,-171.09 112.01,-158.43 119.18,-146.08 128.65,-136.2\"/>\n",
       "<polygon fill=\"black\" stroke=\"black\" points=\"130.86,-138.92 135.83,-129.56 126.11,-133.78 130.86,-138.92\"/>\n",
       "<text text-anchor=\"middle\" x=\"125.54\" y=\"-159.89\" font-family=\"Times New Roman,serif\" font-size=\"14.00\">0.3</text>\n",
       "</g>\n",
       "<!-- mean texture -->\n",
       "<g id=\"node3\" class=\"node\">\n",
       "<title>mean texture</title>\n",
       "<ellipse fill=\"none\" stroke=\"black\" cx=\"56.54\" cy=\"-254.74\" rx=\"56.59\" ry=\"56.59\"/>\n",
       "<text text-anchor=\"middle\" x=\"56.54\" y=\"-251.04\" font-family=\"Times New Roman,serif\" font-size=\"14.00\">mean texture</text>\n",
       "</g>\n",
       "<!-- mean texture&#45;&gt;h11 -->\n",
       "<g id=\"edge5\" class=\"edge\">\n",
       "<title>mean texture&#45;&gt;h11</title>\n",
       "<path fill=\"none\" stroke=\"black\" d=\"M93.19,-211.54C101.86,-203.28 111.52,-195.27 121.54,-189.09 143.08,-175.82 153.65,-183.76 175.54,-171.09 183.68,-166.39 199.49,-152.31 213.24,-139.44\"/>\n",
       "<polygon fill=\"black\" stroke=\"black\" points=\"215.49,-142.13 220.35,-132.72 210.68,-137.05 215.49,-142.13\"/>\n",
       "<text text-anchor=\"middle\" x=\"204.54\" y=\"-159.89\" font-family=\"Times New Roman,serif\" font-size=\"14.00\">0.2</text>\n",
       "</g>\n",
       "<!-- mean texture&#45;&gt;h12 -->\n",
       "<g id=\"edge6\" class=\"edge\">\n",
       "<title>mean texture&#45;&gt;h12</title>\n",
       "<path fill=\"none\" stroke=\"black\" d=\"M69.93,-199.35C75.49,-184.22 83.14,-168.54 93.54,-156.09 103.52,-144.16 110.5,-146.55 123.54,-138.09 124.94,-137.19 126.36,-136.26 127.78,-135.31\"/>\n",
       "<polygon fill=\"black\" stroke=\"black\" points=\"129.61,-138.3 135.9,-129.77 125.67,-132.51 129.61,-138.3\"/>\n",
       "<text text-anchor=\"middle\" x=\"102.54\" y=\"-159.89\" font-family=\"Times New Roman,serif\" font-size=\"14.00\">0.7</text>\n",
       "</g>\n",
       "<!-- mean perimeter -->\n",
       "<g id=\"node4\" class=\"node\">\n",
       "<title>mean perimeter</title>\n",
       "<ellipse fill=\"none\" stroke=\"black\" cx=\"380.54\" cy=\"-254.74\" rx=\"65.79\" ry=\"65.79\"/>\n",
       "<text text-anchor=\"middle\" x=\"380.54\" y=\"-251.04\" font-family=\"Times New Roman,serif\" font-size=\"14.00\">mean perimeter</text>\n",
       "</g>\n",
       "<!-- mean perimeter&#45;&gt;h11 -->\n",
       "<g id=\"edge7\" class=\"edge\">\n",
       "<title>mean perimeter&#45;&gt;h11</title>\n",
       "<path fill=\"none\" stroke=\"black\" d=\"M372.03,-189.04C367.99,-176.99 362.11,-165.3 353.54,-156.09 332.89,-133.87 299.4,-123.67 273.87,-118.99\"/>\n",
       "<polygon fill=\"black\" stroke=\"black\" points=\"274.7,-115.58 264.27,-117.45 273.59,-122.49 274.7,-115.58\"/>\n",
       "<text text-anchor=\"middle\" x=\"372.54\" y=\"-159.89\" font-family=\"Times New Roman,serif\" font-size=\"14.00\">0.3</text>\n",
       "</g>\n",
       "<!-- mean perimeter&#45;&gt;h12 -->\n",
       "<g id=\"edge8\" class=\"edge\">\n",
       "<title>mean perimeter&#45;&gt;h12</title>\n",
       "<path fill=\"none\" stroke=\"black\" d=\"M340.12,-202.6C324.18,-185.5 304.63,-167.83 283.54,-156.09 252.46,-138.79 239.17,-149.73 205.54,-138.09 199.66,-136.06 193.54,-133.53 187.7,-130.9\"/>\n",
       "<polygon fill=\"black\" stroke=\"black\" points=\"189.51,-127.89 178.97,-126.8 186.53,-134.22 189.51,-127.89\"/>\n",
       "<text text-anchor=\"middle\" x=\"314.54\" y=\"-159.89\" font-family=\"Times New Roman,serif\" font-size=\"14.00\">0.5</text>\n",
       "</g>\n",
       "<!-- b2 -->\n",
       "<g id=\"node5\" class=\"node\">\n",
       "<title>b2</title>\n",
       "<ellipse fill=\"none\" stroke=\"black\" cx=\"94.54\" cy=\"-114.04\" rx=\"20.3\" ry=\"20.3\"/>\n",
       "<text text-anchor=\"middle\" x=\"94.54\" y=\"-110.34\" font-family=\"Times New Roman,serif\" font-size=\"14.00\">b2</text>\n",
       "</g>\n",
       "<!-- y1 -->\n",
       "<g id=\"node8\" class=\"node\">\n",
       "<title>y1</title>\n",
       "<ellipse fill=\"none\" stroke=\"black\" cx=\"156.54\" cy=\"-19.5\" rx=\"19.5\" ry=\"19.5\"/>\n",
       "<text text-anchor=\"middle\" x=\"156.54\" y=\"-15.8\" font-family=\"Times New Roman,serif\" font-size=\"14.00\">y1</text>\n",
       "</g>\n",
       "<!-- b2&#45;&gt;y1 -->\n",
       "<g id=\"edge9\" class=\"edge\">\n",
       "<title>b2&#45;&gt;y1</title>\n",
       "<path fill=\"none\" stroke=\"black\" d=\"M105.63,-96.5C115.09,-82.38 128.84,-61.85 139.67,-45.69\"/>\n",
       "<polygon fill=\"black\" stroke=\"black\" points=\"142.47,-47.8 145.13,-37.54 136.65,-43.9 142.47,-47.8\"/>\n",
       "<text text-anchor=\"middle\" x=\"135.04\" y=\"-60.8\" font-family=\"Times New Roman,serif\" font-size=\"14.00\">4</text>\n",
       "</g>\n",
       "<!-- h11&#45;&gt;y1 -->\n",
       "<g id=\"edge10\" class=\"edge\">\n",
       "<title>h11&#45;&gt;y1</title>\n",
       "<path fill=\"none\" stroke=\"black\" d=\"M223.12,-95.64C209.97,-80.79 190.97,-59.35 176.63,-43.17\"/>\n",
       "<polygon fill=\"black\" stroke=\"black\" points=\"179.47,-41.09 170.22,-35.93 174.23,-45.73 179.47,-41.09\"/>\n",
       "<text text-anchor=\"middle\" x=\"204.04\" y=\"-60.8\" font-family=\"Times New Roman,serif\" font-size=\"14.00\">5</text>\n",
       "</g>\n",
       "<!-- h12&#45;&gt;y1 -->\n",
       "<g id=\"edge11\" class=\"edge\">\n",
       "<title>h12&#45;&gt;y1</title>\n",
       "<path fill=\"none\" stroke=\"black\" d=\"M156.54,-89.69C156.54,-77.92 156.54,-63.51 156.54,-50.89\"/>\n",
       "<polygon fill=\"black\" stroke=\"black\" points=\"160.05,-51 156.54,-41 153.05,-51 160.05,-51\"/>\n",
       "<text text-anchor=\"middle\" x=\"160.04\" y=\"-60.8\" font-family=\"Times New Roman,serif\" font-size=\"14.00\">6</text>\n",
       "</g>\n",
       "</g>\n",
       "</svg>\n"
      ],
      "text/plain": [
       "<graphviz.graphs.Digraph at 0x1d862596e20>"
      ]
     },
     "execution_count": 10,
     "metadata": {},
     "output_type": "execute_result"
    }
   ],
   "source": [
    "print(\"=============================================\")\n",
    "print(\"        FEED FORWARD NEURAL NETWORK\")\n",
    "print(\"=============================================\")\n",
    "filename = input(\"Input filename inside test folder: \")\n",
    "\n",
    "path = \"../test/\"\n",
    "model = Reader.read_ffnn(path + filename)\n",
    "\n",
    "ffnn = FFNN(model=model)\n",
    "ffnn.compute()\n",
    "ffnn.predict()\n",
    "\n",
    "filename = filename.split(\".\")[0]\n",
    "graph = Graph(ffnn, filename)\n",
    "\n",
    "print(\"=============================================\")\n",
    "print(\"Graph is saved in folder res with name: \" +\n",
    "      filename + \"_graph.png\")\n",
    "print(\"=============================================\")\n",
    "graph.draw()"
   ]
  },
  {
   "cell_type": "code",
   "execution_count": null,
   "metadata": {},
   "outputs": [],
   "source": []
  }
 ],
 "metadata": {
  "colab": {
   "provenance": []
  },
  "kernelspec": {
   "display_name": "Python 3",
   "language": "python",
   "name": "python3"
  },
  "language_info": {
   "codemirror_mode": {
    "name": "ipython",
    "version": 3
   },
   "file_extension": ".py",
   "mimetype": "text/x-python",
   "name": "python",
   "nbconvert_exporter": "python",
   "pygments_lexer": "ipython3",
   "version": "3.8.2"
  },
  "vscode": {
   "interpreter": {
    "hash": "e31aef8222fb7c235d2ed8e74ce17e973738f89b37261e7466b7a63a6dfb1214"
   }
  }
 },
 "nbformat": 4,
 "nbformat_minor": 4
}
