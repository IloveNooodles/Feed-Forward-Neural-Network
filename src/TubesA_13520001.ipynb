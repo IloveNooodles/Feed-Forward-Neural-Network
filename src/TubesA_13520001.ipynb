{
 "cells": [
  {
   "cell_type": "markdown",
   "metadata": {
    "id": "yFmg9hFG70Uq"
   },
   "source": [
    "<h1><b>Tubes A</b></h1>\n",
    "<h4>Implementasi Forward Propagation untuk Feed Forward Neural Network</h4>\n",
    "\n",
    "Anggota Kelompok:\n",
    "- 13520001 - Fayza Nadia\n",
    "- 13520014 - Muhammad Helmi Hibatullah\n",
    "- 13520026 - Muhammad Fajar Ramadhan\n",
    "- 13520029 - Muhammad Garebaldhie Er Rahman"
   ]
  },
  {
   "cell_type": "markdown",
   "metadata": {
    "id": "DPRZ_Jhf70Us"
   },
   "source": [
    "<h3><b>Class & Function</b></h3>"
   ]
  },
  {
   "cell_type": "markdown",
   "metadata": {},
   "source": [
    "#### Installing Dependencies "
   ]
  },
  {
   "cell_type": "code",
   "execution_count": 12,
   "metadata": {},
   "outputs": [
    {
     "name": "stdout",
     "output_type": "stream",
     "text": [
      "Requirement already satisfied: numpy in c:\\python\\lib\\site-packages (1.23.2)\n",
      "Requirement already satisfied: pandas in c:\\python\\lib\\site-packages (1.4.3)\n",
      "Requirement already satisfied: graphviz in c:\\python\\lib\\site-packages (0.20.1)\n",
      "Requirement already satisfied: scikit-learn in c:\\python\\lib\\site-packages (0.23.2)\n",
      "Requirement already satisfied: python-dateutil>=2.8.1 in c:\\python\\lib\\site-packages (from pandas) (2.8.2)\n",
      "Requirement already satisfied: pytz>=2020.1 in c:\\python\\lib\\site-packages (from pandas) (2022.2.1)\n",
      "Requirement already satisfied: threadpoolctl>=2.0.0 in c:\\python\\lib\\site-packages (from scikit-learn) (2.1.0)\n",
      "Requirement already satisfied: scipy>=0.19.1 in c:\\python\\lib\\site-packages (from scikit-learn) (1.8.0)\n",
      "Requirement already satisfied: joblib>=0.11 in c:\\python\\lib\\site-packages (from scikit-learn) (0.17.0)\n",
      "Requirement already satisfied: six>=1.5 in c:\\python\\lib\\site-packages (from python-dateutil>=2.8.1->pandas) (1.16.0)\n"
     ]
    }
   ],
   "source": [
    "!pip install numpy pandas graphviz scikit-learn"
   ]
  },
  {
   "cell_type": "markdown",
   "metadata": {
    "id": "bTndzbIg70Us"
   },
   "source": [
    "<b>Import</b>"
   ]
  },
  {
   "cell_type": "code",
   "execution_count": 13,
   "metadata": {
    "id": "TTGVBo6e70Us"
   },
   "outputs": [],
   "source": [
    "import math\n",
    "import random\n",
    "import numpy as np\n",
    "import json\n",
    "import os\n",
    "import pandas as pd\n",
    "from graphviz import Digraph\n",
    "from sklearn import datasets"
   ]
  },
  {
   "cell_type": "markdown",
   "metadata": {
    "id": "fwD39npi70Ut"
   },
   "source": [
    "<b>Activation</b>\n",
    "\n",
    "Class Activation adalah kelas yang berisi fungsi-fungsi aktivasi yang digunakan pada neural network. Fungsi-fungsi tersebut adalah linear, relu, sigmoid, dan softmax."
   ]
  },
  {
   "cell_type": "code",
   "execution_count": 14,
   "metadata": {
    "id": "csA8_AtN70Ut"
   },
   "outputs": [],
   "source": [
    "class Activation:\n",
    "    LINEAR = 0\n",
    "    RELU = 1\n",
    "    SIGMOID = 2\n",
    "    SOFTMAX = 3\n",
    "\n",
    "    def __init__(self, mode) -> None:\n",
    "        self.mode = mode\n",
    "\n",
    "    def __linear_calculate(self, res):\n",
    "        return res\n",
    "\n",
    "    def __sigmoid_calculate(self, res):\n",
    "        res = np.array([(1 / (1 + pow(math.e, -x))) for x in res])\n",
    "        res[res < 1e-3] = 0\n",
    "        res[res >= 1e-3] = 1\n",
    "        return res\n",
    "\n",
    "    def __relu_calculate(self, res):\n",
    "        res[res < 0] = 0\n",
    "        return res\n",
    "\n",
    "    def __softmax_calculate(self, res):\n",
    "        numerator = np.array([pow(math.e, x) for x in res])\n",
    "        denominator = np.sum([pow(math.e, x) for x in res])\n",
    "        return numerator / denominator\n",
    "\n",
    "    def calculate(self, x, w, b):\n",
    "        res = np.matmul(x, w)\n",
    "        res = np.add(res, b)\n",
    "        if self.mode == Activation.LINEAR:\n",
    "            return self.__linear_calculate(res)\n",
    "        elif self.mode == Activation.RELU:\n",
    "            return self.__relu_calculate(res)\n",
    "        elif self.mode == Activation.SIGMOID:\n",
    "            return self.__sigmoid_calculate(res)\n",
    "        elif self.mode == Activation.SOFTMAX:\n",
    "            return self.__softmax_calculate(res)\n",
    "        else:\n",
    "            raise Exception(\n",
    "                \"Mode is not implemented, please select correct mode\")\n",
    "\n",
    "    def predict(self, res):\n",
    "        if self.mode == Activation.LINEAR:\n",
    "            return res\n",
    "        elif self.mode == Activation.RELU:\n",
    "            return res\n",
    "        elif self.mode == Activation.SIGMOID:\n",
    "            return res\n",
    "        elif self.mode == Activation.SOFTMAX:\n",
    "            return res\n",
    "        else:\n",
    "            raise Exception(\n",
    "                \"Mode is not implemented, please select correct mode\")\n"
   ]
  },
  {
   "cell_type": "markdown",
   "metadata": {
    "id": "W4XHLZS270Uu"
   },
   "source": [
    "<b>Reader</b>\n",
    "\n",
    "Class Reader adalah kelas yang berfungsi untuk membaca berkas json yang berisi model FFNN."
   ]
  },
  {
   "cell_type": "code",
   "execution_count": 15,
   "metadata": {
    "id": "fNM8KP0e70Uu"
   },
   "outputs": [],
   "source": [
    "ACTIVATION_LIST = [Activation.LINEAR, Activation.RELU,\n",
    "                   Activation.SIGMOID, Activation.SOFTMAX]\n",
    "\n",
    "\n",
    "class Reader:\n",
    "    def __init__(self) -> None:\n",
    "        pass\n",
    "\n",
    "    @staticmethod\n",
    "    def read_data_excel(self, filepath: str):\n",
    "        self.filepath = filepath\n",
    "        df = pd.read_excel(filepath, index_col=False)\n",
    "        if not df['target']:\n",
    "            raise (\"Dataset must have target attribute\")\n",
    "        return df\n",
    "\n",
    "    \"\"\" \n",
    "    FFNN models are json like\n",
    "    \"\"\"\n",
    "    @staticmethod\n",
    "    def read_ffnn(filepath):\n",
    "        try:\n",
    "            with open(filepath, \"rb\") as f:\n",
    "                json_file = json.loads(f.read())\n",
    "                # Return models\n",
    "                if validate_data(json_file):\n",
    "                    return json_file\n",
    "                return None\n",
    "        except OSError as e:\n",
    "            print(\"File not found\")\n",
    "            os._exit(-1)\n",
    "\n",
    "\n",
    "def validate_data(json_data) -> bool:\n",
    "    # Validate layers\n",
    "    layers = json_data['layers']\n",
    "    activation_functions = np.array(\n",
    "        json_data['activation_functions'], dtype=np.int32)\n",
    "\n",
    "    # Neurons are input hidden output\n",
    "    neurons = np.array(json_data['neurons'], dtype=np.int32)\n",
    "    weights = json_data['weights']\n",
    "    rows = json_data['rows']\n",
    "    data = np.array(json_data['data'], dtype=np.float64)\n",
    "    data_names = np.array(json_data['data_names'], dtype=np.string_)\n",
    "    target_names = np.array(json_data['target_names'], dtype=np.string_)\n",
    "    target = np.array(json_data['target'], dtype=np.int32)\n",
    "\n",
    "    if not isinstance(layers, int):\n",
    "        raise Exception(\"Layers is not integer\")\n",
    "\n",
    "    if layers < 3:\n",
    "        raise Exception(\"Layers minimal have value of 3 (input, hidden, end)\")\n",
    "\n",
    "    # # Validate activation function per layers\n",
    "    if activation_functions.shape[0] != layers:\n",
    "        raise Exception(\"Length of activation functions is not the same\")\n",
    "\n",
    "    assert activation_functions.dtype == np.int32\n",
    "\n",
    "    for function in activation_functions:\n",
    "        if function not in ACTIVATION_LIST:\n",
    "            raise Exception(\"Invalid exception\")\n",
    "\n",
    "    # # Validate neurons\n",
    "    if neurons.shape[0] != layers:\n",
    "        raise Exception(\"Neurons number don't match with layers\")\n",
    "\n",
    "    assert neurons.dtype == np.int32\n",
    "\n",
    "    # Validate weights, weights must be layers - 1\n",
    "    if len(weights) != layers - 1:\n",
    "        raise Exception(\"Please input correct weights\")\n",
    "\n",
    "    for index, weight_per_neuron in enumerate(weights):\n",
    "        for weight_neuron in weight_per_neuron:\n",
    "            if len(weight_neuron) != neurons[index] + 1:\n",
    "                raise Exception(\n",
    "                    f\"Invalid number of weights parameter in weight {index}\")\n",
    "            np.array(weight_neuron, dtype=np.float64)\n",
    "\n",
    "    # Validate rows\n",
    "    if not isinstance(rows, int):\n",
    "        raise Exception(\"Rows is not integer\")\n",
    "\n",
    "    # data_names\n",
    "    len_data_features = data_names.shape[0]\n",
    "    assert np.issubdtype(data_names.dtype, np.string_) == True\n",
    "\n",
    "    # data attr\n",
    "    if data.shape[0] != rows:\n",
    "        raise Exception(\"Number of data doesn't match with rows\")\n",
    "\n",
    "    if data.shape[1] != len_data_features:\n",
    "        raise Exception(\"Number of data columns doesnt match\")\n",
    "\n",
    "    assert np.issubdtype(target_names.dtype, np.string_) == True\n",
    "    assert target.shape[0] == rows\n",
    "    return True\n"
   ]
  },
  {
   "cell_type": "markdown",
   "metadata": {
    "id": "TGSM1RKq70Uv"
   },
   "source": [
    "<b>FFNN Algorithm</b>\n",
    "\n",
    "Class FFNN adalah kelas yang berfungsi untuk mengimplementasikan algoritma forward propagation pada FFNN."
   ]
  },
  {
   "cell_type": "code",
   "execution_count": 16,
   "metadata": {
    "id": "kujSFF_970Uv"
   },
   "outputs": [],
   "source": [
    "class FFNN:\n",
    "    def __init__(self, model) -> None:\n",
    "        self.layers = model['layers']\n",
    "        self.activation_functions = np.array(model['activation_functions'])\n",
    "        self.neurons = np.array(model['neurons'])\n",
    "        self.weights = model['weights']\n",
    "        self.rows = model['rows']\n",
    "        self.data_names = np.array(model['data_names'])\n",
    "        self.data = np.array(model['data'])\n",
    "        self.target = np.array(model['target'])\n",
    "        self.target_names = np.array(model['target_names'])\n",
    "        self.output = None\n",
    "        pass\n",
    "\n",
    "    def __str__(self) -> str:\n",
    "        return f\"\\\n",
    "  Layers: {self.layers}\\n\\\n",
    "  Activations: {self.activation_functions}\\n\\\n",
    "  Neurons: {self.neurons}\\n\\\n",
    "  Weights: {self.weights}\\n\\\n",
    "  Rows: {self.rows}\\n\\\n",
    "  Data: {self.data}\\n\\\n",
    "  Data_names: {self.data_names}\\n\\\n",
    "  target: {self.target}\\n\\\n",
    "  target_names: {self.target_names}\\n\"\n",
    "\n",
    "    # Will return output functions\n",
    "    def compute(self):\n",
    "        res = self.data\n",
    "        for i in range(self.layers - 1):\n",
    "            activation_function = Activation(self.activation_functions[i])\n",
    "            transposed_weights = np.transpose(np.array(self.weights[i]))\n",
    "            weights, bias = self.separate_bias(transposed_weights)\n",
    "            res = activation_function.calculate(res, weights, bias)\n",
    "\n",
    "        self.output = res\n",
    "        return res\n",
    "\n",
    "    def _add_bias(self, data):\n",
    "        temp_data = np.ones((data.shape[0], data.shape[0] + 1))\n",
    "        temp_data[:, 1:] = data\n",
    "        return temp_data\n",
    "\n",
    "    def separate_bias(self, data):\n",
    "        bias = data[0, :]\n",
    "        weight = data[1:, :]\n",
    "        return weight, bias\n",
    "\n",
    "    def predict(self):\n",
    "        A = Activation(self.activation_functions[-1])\n",
    "        res = A.predict(self.output)\n",
    "        print(f\"\\\n",
    "Data Names: {self.data_names}\\n\\\n",
    "Data: {self.data}\\n\\\n",
    "Target Names: {self.target_names}\\n\\\n",
    "Target: {self.target}\\n\\\n",
    "Predictions: {np.transpose(res)}\\n\")\n"
   ]
  },
  {
   "cell_type": "markdown",
   "metadata": {
    "id": "1BAuW-l270Uv"
   },
   "source": [
    "<b>Graph</b>\n",
    "\n",
    "Class Graph adalah kelas yang berfungsi untuk menggambar grafik dari hasil forward propagation."
   ]
  },
  {
   "cell_type": "code",
   "execution_count": 17,
   "metadata": {
    "id": "A-av2U2170Uw"
   },
   "outputs": [],
   "source": [
    "class Graph:\n",
    "    def __init__(self, ffnn: FFNN, filename: str) -> None:\n",
    "        self.ffnn = ffnn\n",
    "        self.filename = filename\n",
    "        self.f = Digraph('G', filename=f'../res/{self.filename}_graph', format='png')\n",
    "\n",
    "    def draw(self):\n",
    "        self.f.attr('node', shape='circle')\n",
    "        self._add_node()\n",
    "        self._add_edge()\n",
    "        self.f.view()\n",
    "        return self.f\n",
    "\n",
    "    def _add_node(self):\n",
    "        # Add input nodes\n",
    "        self.f.node(\"b1\")\n",
    "        for data_name in self.ffnn.data_names:\n",
    "            self.f.node(data_name)\n",
    "\n",
    "        # Add nodes in the next layers\n",
    "        for layer in range(1, self.ffnn.layers - 1):\n",
    "            self.f.node(f\"b{layer+1}\")\n",
    "            for j in range(self.ffnn.neurons[layer]):\n",
    "                self.f.node(f\"h{layer}{j+1}\")\n",
    "\n",
    "    def _add_edge(self):\n",
    "        # Add edges between layers\n",
    "        for layer in range(self.ffnn.layers - 1):\n",
    "            transposed_weights = np.transpose(\n",
    "                np.array(self.ffnn.weights[layer]))\n",
    "            weights, bias = self.ffnn.separate_bias(transposed_weights)\n",
    "\n",
    "            # Add edges between bias and hidden layer or output\n",
    "            for i in range(len(bias)):\n",
    "                bias_name = f\"b{layer+1}\"\n",
    "                end = f\"h{layer+1}{i+1}\"\n",
    "                if layer == self.ffnn.layers - 2:\n",
    "                    end = f\"y{i+1}\"\n",
    "\n",
    "                self.f.edge(bias_name, end, label=f\"{bias[i]}\")\n",
    "\n",
    "            # Add edges between input and hidden layer or output\n",
    "            for i in range(self.ffnn.neurons[layer]):\n",
    "                for j in range(len(weights[i])):\n",
    "                    if layer == 0:\n",
    "                        start = self.ffnn.data_names[i]\n",
    "                        end = f\"h{layer+1}{j+1}\"\n",
    "                    elif layer == self.ffnn.layers - 2:\n",
    "                        start = f\"h{layer}{i+1}\"\n",
    "                        end = f\"y{j+1}\"\n",
    "                    else:\n",
    "                        start = f\"h{layer}{i+1}\"\n",
    "                        end = f\"h{layer+1}{j+1}\"\n",
    "                    self.f.edge(start, end, label=f\"{weights[i][j]}\")\n"
   ]
  },
  {
   "cell_type": "markdown",
   "metadata": {
    "id": "OhG2G3xB70Uw"
   },
   "source": [
    "<h3><b>Main Program</b></h3>"
   ]
  },
  {
   "cell_type": "code",
   "execution_count": 18,
   "metadata": {
    "colab": {
     "base_uri": "https://localhost:8080/"
    },
    "id": "guLieLXS70Uw",
    "outputId": "c0156af5-0122-425e-c8a6-69e2b99b7f88"
   },
   "outputs": [
    {
     "name": "stdout",
     "output_type": "stream",
     "text": [
      "=============================================\n",
      "        FEED FORWARD NEURAL NETWORK\n",
      "=============================================\n"
     ]
    },
    {
     "name": "stdin",
     "output_type": "stream",
     "text": [
      "Input filename inside test folder:  xor_linear_relu.json\n"
     ]
    },
    {
     "name": "stdout",
     "output_type": "stream",
     "text": [
      "Data Names: ['x1' 'x2']\n",
      "Data: [[0 0]\n",
      " [0 1]\n",
      " [1 0]\n",
      " [1 1]]\n",
      "Target Names: ['false' 'true']\n",
      "Target: [0 1 1 0]\n",
      "Predictions: [[0 1 1 0]]\n",
      "\n",
      "=============================================\n",
      "Graph is saved in folder res with name: xor_linear_relu_graph.png\n",
      "=============================================\n"
     ]
    },
    {
     "data": {
      "image/svg+xml": [
       "<?xml version=\"1.0\" encoding=\"UTF-8\" standalone=\"no\"?>\n",
       "<!DOCTYPE svg PUBLIC \"-//W3C//DTD SVG 1.1//EN\"\n",
       " \"http://www.w3.org/Graphics/SVG/1.1/DTD/svg11.dtd\">\n",
       "<!-- Generated by graphviz version 7.1.0 (20230121.1956)\n",
       " -->\n",
       "<!-- Title: G Pages: 1 -->\n",
       "<svg width=\"217pt\" height=\"237pt\"\n",
       " viewBox=\"0.00 0.00 216.65 237.39\" xmlns=\"http://www.w3.org/2000/svg\" xmlns:xlink=\"http://www.w3.org/1999/xlink\">\n",
       "<g id=\"graph0\" class=\"graph\" transform=\"scale(1 1) rotate(0) translate(4 233.39)\">\n",
       "<title>G</title>\n",
       "<polygon fill=\"white\" stroke=\"none\" points=\"-4,4 -4,-233.39 212.65,-233.39 212.65,4 -4,4\"/>\n",
       "<!-- b1 -->\n",
       "<g id=\"node1\" class=\"node\">\n",
       "<title>b1</title>\n",
       "<ellipse fill=\"none\" stroke=\"black\" cx=\"67.15\" cy=\"-209.24\" rx=\"20.3\" ry=\"20.3\"/>\n",
       "<text text-anchor=\"middle\" x=\"67.15\" y=\"-205.54\" font-family=\"Times New Roman,serif\" font-size=\"14.00\">b1</text>\n",
       "</g>\n",
       "<!-- h11 -->\n",
       "<g id=\"node5\" class=\"node\">\n",
       "<title>h11</title>\n",
       "<ellipse fill=\"none\" stroke=\"black\" cx=\"148.15\" cy=\"-114.04\" rx=\"24.1\" ry=\"24.1\"/>\n",
       "<text text-anchor=\"middle\" x=\"148.15\" y=\"-110.34\" font-family=\"Times New Roman,serif\" font-size=\"14.00\">h11</text>\n",
       "</g>\n",
       "<!-- b1&#45;&gt;h11 -->\n",
       "<g id=\"edge1\" class=\"edge\">\n",
       "<title>b1&#45;&gt;h11</title>\n",
       "<path fill=\"none\" stroke=\"black\" d=\"M80.16,-193.27C92.35,-179.25 110.82,-157.99 125.44,-141.18\"/>\n",
       "<polygon fill=\"black\" stroke=\"black\" points=\"127.76,-143.83 131.68,-133.99 122.48,-139.24 127.76,-143.83\"/>\n",
       "<text text-anchor=\"middle\" x=\"112.65\" y=\"-159.89\" font-family=\"Times New Roman,serif\" font-size=\"14.00\">0</text>\n",
       "</g>\n",
       "<!-- h12 -->\n",
       "<g id=\"node6\" class=\"node\">\n",
       "<title>h12</title>\n",
       "<ellipse fill=\"none\" stroke=\"black\" cx=\"82.15\" cy=\"-114.04\" rx=\"24.1\" ry=\"24.1\"/>\n",
       "<text text-anchor=\"middle\" x=\"82.15\" y=\"-110.34\" font-family=\"Times New Roman,serif\" font-size=\"14.00\">h12</text>\n",
       "</g>\n",
       "<!-- b1&#45;&gt;h12 -->\n",
       "<g id=\"edge2\" class=\"edge\">\n",
       "<title>b1&#45;&gt;h12</title>\n",
       "<path fill=\"none\" stroke=\"black\" d=\"M56.73,-191.73C51.55,-181.44 47.18,-167.94 51.15,-156.09 52.9,-150.86 55.61,-145.77 58.72,-141.05\"/>\n",
       "<polygon fill=\"black\" stroke=\"black\" points=\"61.41,-143.29 64.56,-133.18 55.79,-139.12 61.41,-143.29\"/>\n",
       "<text text-anchor=\"middle\" x=\"57.15\" y=\"-159.89\" font-family=\"Times New Roman,serif\" font-size=\"14.00\">&#45;1</text>\n",
       "</g>\n",
       "<!-- x1 -->\n",
       "<g id=\"node2\" class=\"node\">\n",
       "<title>x1</title>\n",
       "<ellipse fill=\"none\" stroke=\"black\" cx=\"189.15\" cy=\"-209.24\" rx=\"19.5\" ry=\"19.5\"/>\n",
       "<text text-anchor=\"middle\" x=\"189.15\" y=\"-205.54\" font-family=\"Times New Roman,serif\" font-size=\"14.00\">x1</text>\n",
       "</g>\n",
       "<!-- x1&#45;&gt;h11 -->\n",
       "<g id=\"edge3\" class=\"edge\">\n",
       "<title>x1&#45;&gt;h11</title>\n",
       "<path fill=\"none\" stroke=\"black\" d=\"M189.62,-189.7C189.25,-179.42 187.73,-166.62 183.15,-156.09 180.63,-150.3 177,-144.7 173.03,-139.61\"/>\n",
       "<polygon fill=\"black\" stroke=\"black\" points=\"175.83,-137.49 166.66,-132.19 170.52,-142.05 175.83,-137.49\"/>\n",
       "<text text-anchor=\"middle\" x=\"190.65\" y=\"-159.89\" font-family=\"Times New Roman,serif\" font-size=\"14.00\">1</text>\n",
       "</g>\n",
       "<!-- x1&#45;&gt;h12 -->\n",
       "<g id=\"edge4\" class=\"edge\">\n",
       "<title>x1&#45;&gt;h12</title>\n",
       "<path fill=\"none\" stroke=\"black\" d=\"M179.83,-192.12C172.77,-180.95 162.23,-166.31 150.15,-156.09 136.79,-144.8 130.13,-147.12 115.15,-138.09 113.73,-137.24 112.28,-136.34 110.84,-135.42\"/>\n",
       "<polygon fill=\"black\" stroke=\"black\" points=\"112.93,-132.6 102.66,-129.98 109.05,-138.43 112.93,-132.6\"/>\n",
       "<text text-anchor=\"middle\" x=\"166.65\" y=\"-159.89\" font-family=\"Times New Roman,serif\" font-size=\"14.00\">1</text>\n",
       "</g>\n",
       "<!-- x2 -->\n",
       "<g id=\"node3\" class=\"node\">\n",
       "<title>x2</title>\n",
       "<ellipse fill=\"none\" stroke=\"black\" cx=\"130.15\" cy=\"-209.24\" rx=\"19.5\" ry=\"19.5\"/>\n",
       "<text text-anchor=\"middle\" x=\"130.15\" y=\"-205.54\" font-family=\"Times New Roman,serif\" font-size=\"14.00\">x2</text>\n",
       "</g>\n",
       "<!-- x2&#45;&gt;h11 -->\n",
       "<g id=\"edge5\" class=\"edge\">\n",
       "<title>x2&#45;&gt;h11</title>\n",
       "<path fill=\"none\" stroke=\"black\" d=\"M133.7,-189.83C135.95,-178.22 138.91,-162.88 141.57,-149.12\"/>\n",
       "<polygon fill=\"black\" stroke=\"black\" points=\"144.96,-150.01 143.42,-139.53 138.09,-148.69 144.96,-150.01\"/>\n",
       "<text text-anchor=\"middle\" x=\"142.65\" y=\"-159.89\" font-family=\"Times New Roman,serif\" font-size=\"14.00\">1</text>\n",
       "</g>\n",
       "<!-- x2&#45;&gt;h12 -->\n",
       "<g id=\"edge6\" class=\"edge\">\n",
       "<title>x2&#45;&gt;h12</title>\n",
       "<path fill=\"none\" stroke=\"black\" d=\"M113.86,-198.27C104.69,-191.74 93.95,-182.34 88.15,-171.09 84.79,-164.59 82.88,-157.1 81.86,-149.75\"/>\n",
       "<polygon fill=\"black\" stroke=\"black\" points=\"85.37,-149.68 81.04,-140.01 78.39,-150.26 85.37,-149.68\"/>\n",
       "<text text-anchor=\"middle\" x=\"91.65\" y=\"-159.89\" font-family=\"Times New Roman,serif\" font-size=\"14.00\">1</text>\n",
       "</g>\n",
       "<!-- b2 -->\n",
       "<g id=\"node4\" class=\"node\">\n",
       "<title>b2</title>\n",
       "<ellipse fill=\"none\" stroke=\"black\" cx=\"20.15\" cy=\"-114.04\" rx=\"20.3\" ry=\"20.3\"/>\n",
       "<text text-anchor=\"middle\" x=\"20.15\" y=\"-110.34\" font-family=\"Times New Roman,serif\" font-size=\"14.00\">b2</text>\n",
       "</g>\n",
       "<!-- y1 -->\n",
       "<g id=\"node7\" class=\"node\">\n",
       "<title>y1</title>\n",
       "<ellipse fill=\"none\" stroke=\"black\" cx=\"82.15\" cy=\"-19.5\" rx=\"19.5\" ry=\"19.5\"/>\n",
       "<text text-anchor=\"middle\" x=\"82.15\" y=\"-15.8\" font-family=\"Times New Roman,serif\" font-size=\"14.00\">y1</text>\n",
       "</g>\n",
       "<!-- b2&#45;&gt;y1 -->\n",
       "<g id=\"edge7\" class=\"edge\">\n",
       "<title>b2&#45;&gt;y1</title>\n",
       "<path fill=\"none\" stroke=\"black\" d=\"M31.23,-96.5C40.69,-82.38 54.45,-61.85 65.27,-45.69\"/>\n",
       "<polygon fill=\"black\" stroke=\"black\" points=\"68.07,-47.8 70.73,-37.54 62.26,-43.9 68.07,-47.8\"/>\n",
       "<text text-anchor=\"middle\" x=\"60.65\" y=\"-60.8\" font-family=\"Times New Roman,serif\" font-size=\"14.00\">0</text>\n",
       "</g>\n",
       "<!-- h11&#45;&gt;y1 -->\n",
       "<g id=\"edge8\" class=\"edge\">\n",
       "<title>h11&#45;&gt;y1</title>\n",
       "<path fill=\"none\" stroke=\"black\" d=\"M134.47,-93.87C124.44,-79.8 110.72,-60.56 99.85,-45.32\"/>\n",
       "<polygon fill=\"black\" stroke=\"black\" points=\"102.72,-43.31 94.06,-37.2 97.02,-47.38 102.72,-43.31\"/>\n",
       "<text text-anchor=\"middle\" x=\"119.65\" y=\"-60.8\" font-family=\"Times New Roman,serif\" font-size=\"14.00\">1</text>\n",
       "</g>\n",
       "<!-- h12&#45;&gt;y1 -->\n",
       "<g id=\"edge9\" class=\"edge\">\n",
       "<title>h12&#45;&gt;y1</title>\n",
       "<path fill=\"none\" stroke=\"black\" d=\"M82.15,-89.69C82.15,-77.92 82.15,-63.51 82.15,-50.89\"/>\n",
       "<polygon fill=\"black\" stroke=\"black\" points=\"85.65,-51 82.15,-41 78.65,-51 85.65,-51\"/>\n",
       "<text text-anchor=\"middle\" x=\"88.15\" y=\"-60.8\" font-family=\"Times New Roman,serif\" font-size=\"14.00\">&#45;2</text>\n",
       "</g>\n",
       "</g>\n",
       "</svg>\n"
      ],
      "text/plain": [
       "<graphviz.graphs.Digraph at 0x1d842ab8eb0>"
      ]
     },
     "execution_count": 18,
     "metadata": {},
     "output_type": "execute_result"
    }
   ],
   "source": [
    "print(\"=============================================\")\n",
    "print(\"        FEED FORWARD NEURAL NETWORK\")\n",
    "print(\"=============================================\")\n",
    "filename = input(\"Input filename inside test folder: \")\n",
    "\n",
    "path = \"../test/\"\n",
    "model = Reader.read_ffnn(path + filename)\n",
    "\n",
    "ffnn = FFNN(model=model)\n",
    "ffnn.compute()\n",
    "ffnn.predict()\n",
    "\n",
    "filename = filename.split(\".\")[0]\n",
    "graph = Graph(ffnn, filename)\n",
    "\n",
    "print(\"=============================================\")\n",
    "print(\"Graph is saved in folder res with name: \" +\n",
    "      filename + \"_graph.png\")\n",
    "print(\"=============================================\")\n",
    "graph.draw()"
   ]
  },
  {
   "cell_type": "code",
   "execution_count": null,
   "metadata": {},
   "outputs": [],
   "source": []
  }
 ],
 "metadata": {
  "colab": {
   "provenance": []
  },
  "kernelspec": {
   "display_name": "Python 3",
   "language": "python",
   "name": "python3"
  },
  "language_info": {
   "codemirror_mode": {
    "name": "ipython",
    "version": 3
   },
   "file_extension": ".py",
   "mimetype": "text/x-python",
   "name": "python",
   "nbconvert_exporter": "python",
   "pygments_lexer": "ipython3",
   "version": "3.8.2"
  },
  "vscode": {
   "interpreter": {
    "hash": "e31aef8222fb7c235d2ed8e74ce17e973738f89b37261e7466b7a63a6dfb1214"
   }
  }
 },
 "nbformat": 4,
 "nbformat_minor": 4
}
