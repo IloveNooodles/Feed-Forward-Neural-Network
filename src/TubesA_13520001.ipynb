{
 "cells": [
  {
   "cell_type": "markdown",
   "metadata": {
    "id": "yFmg9hFG70Uq"
   },
   "source": [
    "<h1><b>Tubes A</b></h1>\n",
    "<h4>Implementasi Forward Propagation untuk Feed Forward Neural Network</h4>\n",
    "\n",
    "Anggota Kelompok:\n",
    "- 13520001 - Fayza Nadia\n",
    "- 13520014 - Muhammad Helmi Hibatullah\n",
    "- 13520026 - Muhammad Fajar Ramadhan\n",
    "- 13520029 - Muhammad Garebaldhie Er Rahman"
   ]
  },
  {
   "cell_type": "markdown",
   "metadata": {
    "id": "DPRZ_Jhf70Us"
   },
   "source": [
    "<h3><b>Class & Function</b></h3>"
   ]
  },
  {
   "cell_type": "markdown",
   "metadata": {},
   "source": [
    "#### Installing Dependencies "
   ]
  },
  {
   "cell_type": "code",
   "execution_count": null,
   "metadata": {},
   "outputs": [],
   "source": [
    "%pip install numpy pandas graphviz"
   ]
  },
  {
   "cell_type": "markdown",
   "metadata": {
    "id": "bTndzbIg70Us"
   },
   "source": [
    "<b>Import</b>"
   ]
  },
  {
   "cell_type": "code",
   "execution_count": null,
   "metadata": {
    "id": "TTGVBo6e70Us"
   },
   "outputs": [],
   "source": [
    "import math\n",
    "import numpy as np\n",
    "import json\n",
    "import os\n",
    "from graphviz import Digraph"
   ]
  },
  {
   "cell_type": "markdown",
   "metadata": {
    "id": "fwD39npi70Ut"
   },
   "source": [
    "<b>Activation</b>\n",
    "\n",
    "Class Activation adalah kelas yang berisi fungsi-fungsi aktivasi yang digunakan pada neural network. Fungsi-fungsi tersebut adalah linear, relu, sigmoid, dan softmax."
   ]
  },
  {
   "cell_type": "code",
   "execution_count": null,
   "metadata": {
    "id": "csA8_AtN70Ut"
   },
   "outputs": [],
   "source": [
    "class Activation:\n",
    "    LINEAR = \"linear\"\n",
    "    RELU = \"relu\"\n",
    "    SIGMOID = \"sigmoid\"\n",
    "    SOFTMAX = \"softmax\"\n",
    "\n",
    "    def __init__(self, mode) -> None:\n",
    "        self.mode = mode\n",
    "\n",
    "    def __linear_calculate(self, res):\n",
    "        return res\n",
    "\n",
    "    def __sigmoid_calculate(self, res):\n",
    "        res = np.array([(1 / (1 + pow(math.e, -x))) for x in res])\n",
    "        return res\n",
    "\n",
    "    def __relu_calculate(self, res):\n",
    "        res[res < 0] = 0\n",
    "        return res\n",
    "\n",
    "    def __softmax_calculate(self, res):\n",
    "        numerator = np.array([pow(math.e, x) for x in res])\n",
    "        denominator = np.sum([pow(math.e, x) for x in res])\n",
    "        return numerator / denominator\n",
    "\n",
    "    def calculate(self, x, w, b):\n",
    "        res = np.matmul(x, w)\n",
    "        res = np.add(res, b)\n",
    "        if self.mode == Activation.LINEAR:\n",
    "            return self.__linear_calculate(res)\n",
    "        elif self.mode == Activation.RELU:\n",
    "            return self.__relu_calculate(res)\n",
    "        elif self.mode == Activation.SIGMOID:\n",
    "            return self.__sigmoid_calculate(res)\n",
    "        elif self.mode == Activation.SOFTMAX:\n",
    "            return self.__softmax_calculate(res)\n",
    "        else:\n",
    "            raise Exception(\n",
    "                \"Mode is not implemented, please select correct mode\")\n",
    "\n",
    "    def predict(self, res):\n",
    "        if self.mode == Activation.LINEAR:\n",
    "            return res\n",
    "        elif self.mode == Activation.RELU:\n",
    "            return res\n",
    "        elif self.mode == Activation.SIGMOID:\n",
    "            return res\n",
    "        elif self.mode == Activation.SOFTMAX:\n",
    "            return res\n",
    "        else:\n",
    "            raise Exception(\n",
    "                \"Mode is not implemented, please select correct mode\")"
   ]
  },
  {
   "cell_type": "markdown",
   "metadata": {
    "id": "W4XHLZS270Uu"
   },
   "source": [
    "<b>Reader</b>\n",
    "\n",
    "Class Reader adalah kelas yang berfungsi untuk membaca berkas json yang berisi model FFNN."
   ]
  },
  {
   "cell_type": "code",
   "execution_count": null,
   "metadata": {
    "id": "fNM8KP0e70Uu"
   },
   "outputs": [],
   "source": [
    "ACTIVATION_LIST = [Activation.LINEAR, Activation.RELU,\n",
    "                   Activation.SIGMOID, Activation.SOFTMAX]\n",
    "\n",
    "\n",
    "class Reader:\n",
    "    def __init__(self) -> None:\n",
    "        pass\n",
    "\n",
    "    \"\"\" \n",
    "    FFNN models are json like\n",
    "    \"\"\"\n",
    "    @staticmethod\n",
    "    def read_ffnn(filepath):\n",
    "        try:\n",
    "            with open(filepath, \"rb\") as f:\n",
    "                json_file = json.loads(f.read())\n",
    "                # Return models\n",
    "                if validate_data(json_file):\n",
    "                    return json_file\n",
    "                return None\n",
    "        except OSError as e:\n",
    "            print(\"File not found\")\n",
    "            os._exit(-1)\n",
    "\n",
    "\n",
    "def validate_data(json_data) -> bool:\n",
    "    # Validate layers\n",
    "    layers = json_data['layers']\n",
    "    activation_functions = np.array(\n",
    "        json_data['activation_functions'], dtype=np.string_)\n",
    "\n",
    "    # Neurons are input hidden output\n",
    "    neurons = np.array(json_data['neurons'], dtype=np.int32)\n",
    "    weights = json_data['weights']\n",
    "    rows = json_data['rows']\n",
    "    data = np.array(json_data['data'], dtype=np.float64)\n",
    "    data_names = np.array(json_data['data_names'], dtype=np.string_)\n",
    "    target_names = np.array(json_data['target_names'], dtype=np.string_)\n",
    "    target = np.array(json_data['target'], dtype=np.int32)\n",
    "    max_sse = json_data['max_sse']\n",
    "\n",
    "    if not isinstance(layers, int):\n",
    "        raise Exception(\"Layers is not integer\")\n",
    "\n",
    "    # Validate activation function per layers\n",
    "    if activation_functions.shape[0] != layers - 1:\n",
    "        raise Exception(\"Length of activation functions is not the same\")\n",
    "\n",
    "    for function in activation_functions:\n",
    "        if function.decode() not in ACTIVATION_LIST:\n",
    "            raise Exception(\"Invalid activation functions\")\n",
    "\n",
    "    # # Validate neurons\n",
    "    if neurons.shape[0] != layers:\n",
    "        raise Exception(\"Neurons number don't match with layers\")\n",
    "\n",
    "    assert neurons.dtype == np.int32\n",
    "\n",
    "    # Validate weights, weights must be layers - 1\n",
    "    if len(weights) != layers - 1:\n",
    "        raise Exception(\"Please input correct weights\")\n",
    "\n",
    "    for index, weight_per_neuron in enumerate(weights):\n",
    "        for weight_neuron in weight_per_neuron:\n",
    "            if len(weight_neuron) != neurons[index] + 1:\n",
    "                raise Exception(\n",
    "                    f\"Invalid number of weights parameter in weight {index}\")\n",
    "            np.array(weight_neuron, dtype=np.float64)\n",
    "\n",
    "    # Validate rows\n",
    "    if not isinstance(rows, int):\n",
    "        raise Exception(\"Rows is not integer\")\n",
    "\n",
    "    # data_names\n",
    "    len_data_features = data_names.shape[0]\n",
    "    assert np.issubdtype(data_names.dtype, np.string_) == True\n",
    "\n",
    "    # data attr\n",
    "    if data.shape[0] != rows:\n",
    "        raise Exception(\"Number of data doesn't match with rows\")\n",
    "\n",
    "    if data.shape[1] != len_data_features:\n",
    "        raise Exception(\"Number of data columns doesnt match\")\n",
    "\n",
    "    assert np.issubdtype(target_names.dtype, np.string_) == True\n",
    "    assert target.shape[0] == rows\n",
    "\n",
    "    if not isinstance(max_sse, float):\n",
    "        raise Exception(\"Please input correct sse\")\n",
    "\n",
    "    return True"
   ]
  },
  {
   "cell_type": "markdown",
   "metadata": {
    "id": "TGSM1RKq70Uv"
   },
   "source": [
    "<b>FFNN Algorithm</b>\n",
    "\n",
    "Class FFNN adalah kelas yang berfungsi untuk mengimplementasikan algoritma forward propagation pada FFNN."
   ]
  },
  {
   "cell_type": "code",
   "execution_count": null,
   "metadata": {
    "id": "kujSFF_970Uv"
   },
   "outputs": [],
   "source": [
    "class FFNN:\n",
    "    def __init__(self, model) -> None:\n",
    "        self.layers = model['layers']\n",
    "        self.activation_functions = np.array(model['activation_functions'])\n",
    "        self.neurons = np.array(model['neurons'])\n",
    "        self.weights = model['weights']\n",
    "        self.rows = model['rows']\n",
    "        self.data_names = np.array(model['data_names'])\n",
    "        self.data = np.array(model['data'])\n",
    "        self.target = np.array(model['target'])\n",
    "        self.target_names = np.array(model['target_names'])\n",
    "        self.output = None\n",
    "        self.max_sse = model[\"max_sse\"]\n",
    "        pass\n",
    "\n",
    "    def __str__(self) -> str:\n",
    "        return f\"\\\n",
    "  Layers: {self.layers}\\n\\\n",
    "  Activations: {self.activation_functions}\\n\\\n",
    "  Neurons: {self.neurons}\\n\\\n",
    "  Weights: {self.weights}\\n\\\n",
    "  Rows: {self.rows}\\n\\\n",
    "  Data: {self.data}\\n\\\n",
    "  Data_names: {self.data_names}\\n\\\n",
    "  target: {self.target}\\n\\\n",
    "  target_names: {self.target_names}\\n\\\n",
    "  max_sse: {self.max_sse}\\n\"\n",
    "\n",
    "    # Will return output functions\n",
    "    def compute(self):\n",
    "        res = self.data\n",
    "        for i in range(self.layers - 1):\n",
    "            activation_function = Activation(self.activation_functions[i])\n",
    "            transposed_weights = np.transpose(np.array(self.weights[i]))\n",
    "            weights, bias = self.separate_bias(transposed_weights)\n",
    "            res = activation_function.calculate(res, weights, bias)\n",
    "\n",
    "        self.output = res\n",
    "        return res\n",
    "\n",
    "    def separate_bias(self, data):\n",
    "        bias = data[0, :]\n",
    "        weight = data[1:, :]\n",
    "        return weight, bias\n",
    "\n",
    "    def predict(self):\n",
    "        A = Activation(self.activation_functions[-1])\n",
    "        res = A.predict(self.output)\n",
    "        sse = self._calculate_sse()\n",
    "        print(f\"\\\n",
    "  Data Names: {self.data_names}\\n\\\n",
    "  Data: {self.data}\\n\\\n",
    "  Target Names: {self.target_names}\\n\\\n",
    "  Target: {self.target}\\n\\\n",
    "  Predictions: {res}\\n\\\n",
    "  SSE: {sse}\\n\\\n",
    "  isValid: {[s < self.max_sse for s in sse]} ( < 1e-6)\\n\")\n",
    "\n",
    "    def _calculate_sse(self):\n",
    "        sse = 0\n",
    "        for i in range(len(self.output)):\n",
    "            sse += pow(self.output[i] - self.target[i], 2)\n",
    "        sse = sse / len(self.target)\n",
    "        return sse\n"
   ]
  },
  {
   "cell_type": "markdown",
   "metadata": {
    "id": "1BAuW-l270Uv"
   },
   "source": [
    "<b>Graph</b>\n",
    "\n",
    "Class Graph adalah kelas yang berfungsi untuk menggambar grafik dari hasil forward propagation."
   ]
  },
  {
   "cell_type": "code",
   "execution_count": null,
   "metadata": {
    "id": "A-av2U2170Uw"
   },
   "outputs": [],
   "source": [
    "class Graph:\n",
    "    def __init__(self, ffnn: FFNN, filename: str) -> None:\n",
    "        self.ffnn = ffnn\n",
    "        self.filename = filename\n",
    "        self.f = Digraph(\n",
    "            'G', filename=f'./res/{self.filename}_graph', format='png')\n",
    "\n",
    "    def draw(self):\n",
    "        self.f.attr('node', shape='circle')\n",
    "        self._add_node()\n",
    "        self._add_edge()\n",
    "        self.f.view()\n",
    "        return self.f\n",
    "\n",
    "    def _add_node(self):\n",
    "        # Add input nodes\n",
    "        self.f.node(\"b1\")\n",
    "        for data_name in self.ffnn.data_names:\n",
    "            self.f.node(data_name)\n",
    "\n",
    "        # Add nodes in the next layers\n",
    "        for layer in range(1, self.ffnn.layers - 1):\n",
    "            self.f.node(f\"b{layer+1}\")\n",
    "            for j in range(self.ffnn.neurons[layer]):\n",
    "                self.f.node(f\"h{layer}{j+1}\")\n",
    "\n",
    "    def _add_edge(self):\n",
    "        # Add edges between layers\n",
    "        layers = self.ffnn.layers\n",
    "\n",
    "        for layer in range(layers - 1):\n",
    "            transposed_weights = np.transpose(\n",
    "                np.array(self.ffnn.weights[layer]))\n",
    "            weights, bias = self.ffnn.separate_bias(transposed_weights)\n",
    "\n",
    "            # Add edges between bias and hidden layer or output\n",
    "            for i in range(len(bias)):\n",
    "                if layers == 2:\n",
    "                    bias_name = f\"b{layer+1}\"\n",
    "                    end = f\"y{i+1}\"\n",
    "                else:\n",
    "                    bias_name = f\"b{layer+1}\"\n",
    "                    end = f\"h{layer+1}{i+1}\"\n",
    "                    if layer == self.ffnn.layers - 2:\n",
    "                        end = f\"y{i+1}\"\n",
    "\n",
    "                self.f.edge(bias_name, end, label=f\"{bias[i]}\")\n",
    "\n",
    "            # Add edges between input and hidden layer or output\n",
    "            for i in range(self.ffnn.neurons[layer]):\n",
    "                for j in range(len(weights[i])):\n",
    "                    if layers == 2:\n",
    "                        start = self.ffnn.data_names[i]\n",
    "                        end = f\"y{j+1}\"\n",
    "                    elif layer == 0:\n",
    "                        start = self.ffnn.data_names[i]\n",
    "                        end = f\"h{layer+1}{j+1}\"\n",
    "                    elif layer == self.ffnn.layers - 2:\n",
    "                        start = f\"h{layer}{i+1}\"\n",
    "                        end = f\"y{j+1}\"\n",
    "                    else:\n",
    "                        start = f\"h{layer}{i+1}\"\n",
    "                        end = f\"h{layer+1}{j+1}\"\n",
    "                    self.f.edge(start, end, label=f\"{weights[i][j]}\")\n"
   ]
  },
  {
   "cell_type": "markdown",
   "metadata": {
    "id": "OhG2G3xB70Uw"
   },
   "source": [
    "<h3><b>Main Program</b></h3>"
   ]
  },
  {
   "cell_type": "code",
   "execution_count": null,
   "metadata": {
    "colab": {
     "base_uri": "https://localhost:8080/"
    },
    "id": "guLieLXS70Uw",
    "outputId": "c0156af5-0122-425e-c8a6-69e2b99b7f88"
   },
   "outputs": [],
   "source": [
    "print(\"=============================================\")\n",
    "print(\"        FEED FORWARD NEURAL NETWORK\")\n",
    "print(\"=============================================\")\n",
    "filename = input(\"Input filename inside test folder: \")\n",
    "\n",
    "path = \"./test/\"\n",
    "model = Reader.read_ffnn(path + filename)\n",
    "\n",
    "ffnn = FFNN(model=model)\n",
    "ffnn.compute()\n",
    "ffnn.predict()\n",
    "\n",
    "filename = filename.split(\".\")[0]\n",
    "graph = Graph(ffnn, filename)\n",
    "\n",
    "print(\"=============================================\")\n",
    "print(\"Graph is saved in folder res with name: \" +\n",
    "      filename + \"_graph.png\")\n",
    "print(\"=============================================\")\n",
    "graph.draw()"
   ]
  }
 ],
 "metadata": {
  "colab": {
   "provenance": []
  },
  "kernelspec": {
   "display_name": "Python 3",
   "language": "python",
   "name": "python3"
  },
  "language_info": {
   "codemirror_mode": {
    "name": "ipython",
    "version": 3
   },
   "file_extension": ".py",
   "mimetype": "text/x-python",
   "name": "python",
   "nbconvert_exporter": "python",
   "pygments_lexer": "ipython3",
   "version": "3.8.2"
  },
  "vscode": {
   "interpreter": {
    "hash": "e31aef8222fb7c235d2ed8e74ce17e973738f89b37261e7466b7a63a6dfb1214"
   }
  }
 },
 "nbformat": 4,
 "nbformat_minor": 4
}
