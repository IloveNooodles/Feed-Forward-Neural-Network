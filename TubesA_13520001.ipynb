{
 "cells": [
  {
   "cell_type": "markdown",
   "metadata": {
    "id": "yFmg9hFG70Uq"
   },
   "source": [
    "<h1><b>Tubes A</b></h1>\n",
    "<h4>Implementasi Forward Propagation untuk Feed Forward Neural Network</h4>\n",
    "\n",
    "Anggota Kelompok:\n",
    "- 13520001 - Fayza Nadia\n",
    "- 13520014 - Muhammad Helmi Hibatullah\n",
    "- 13520026 - Muhammad Fajar Ramadhan\n",
    "- 13520029 - Muhammad Garebaldhie Er Rahman"
   ]
  },
  {
   "cell_type": "markdown",
   "metadata": {},
   "source": [
    "# Models"
   ]
  },
  {
   "cell_type": "markdown",
   "metadata": {},
   "source": [
    "Model yang dibuat menggunakan format seperti berikut\n",
    "\n",
    "file `sigmoid.json`\n",
    "```json\n",
    "{\n",
    "  \"layers\": 2,\n",
    "  \"activation_functions\": [\"sigmoid\"],\n",
    "  \"neurons\": [2, 3],\n",
    "  \"weights\": [\n",
    "    [\n",
    "      [0.4, 0.2, 0.1],\n",
    "      [0.2, 0.4, 0.2],\n",
    "      [0.1, 0.2, 0.4]\n",
    "    ]\n",
    "  ],\n",
    "  \"rows\": 1,\n",
    "  \"data_names\": [\"x1\", \"x2\"],\n",
    "  \"data\": [[0.2, 0.4]],\n",
    "  \"target_names\": [\"false\", \"true\"],\n",
    "  \"target\": [[0.617747, 0.58904, 0.574442]],\n",
    "  \"max_sse\": 0.000001\n",
    "}\n",
    "```\n",
    "\n",
    "`layers`: berisi banyaknya layer pada ffnn. Input layer merupakan layer sehingga perlu dimasukan juga ke dalam array neurons  \n",
    "`activation_functions`: memiliki jumlah `layers - 1` karena activation functions menghubungkan dari layer ke layer. Activation functions yang valid berupa `sigmoid`, `relu`, `linear`, dan `softmax`  \n",
    "`neurons`: berisi banyaknya neurons pada setiap layers  \n",
    "`weights`: weights berisi bobot yang menghubungkan setiap layer. Weights harus memiliki panjang `layers - 1`.  \n",
    "- dimensi 1 merupakan array yang menyimpan weights dari setiap layer\n",
    "- dimensi 2 merupakan array yang menyimpan weights dari setiap neuron. Misal layer berikutnya ialah `y`, index ke 0 artinya bobot untuk `y1`, index 1 untuk `y2` dan index 2 untuk `y3` \n",
    "- dimensi 3 merupakan array yang menyimpan bobot dari suatu neuron dimulai dari bias. `[0.4, 0.2, 0.1]` berarti 0.4 adalah bias, 0.2 merupakan bobot `x1` dan 0.1 merupakan bobot `x2`  \n",
    "\n",
    "`rows`: merupakan panjang array data yang diberikan  \n",
    "`data_names`: merupakan nama attribut dari data yang diberikan  \n",
    "`data`: merupakan input yang akan di prediksi  \n",
    "`target_names`: merupakan hasil kelas prediksi yang menyatakan klasifikasi biner  \n",
    "`target`: merupakan hasil output dari FFNN  \n",
    "`max_sse`: merupakan max squared sum error yang ditoleransi  "
   ]
  },
  {
   "cell_type": "markdown",
   "metadata": {},
   "source": [
    "#### Installing Dependencies "
   ]
  },
  {
   "cell_type": "code",
   "execution_count": 1,
   "metadata": {},
   "outputs": [
    {
     "name": "stdout",
     "output_type": "stream",
     "text": [
      "Requirement already satisfied: numpy in d:\\coding\\feed-forward-neural-network\\venv\\lib\\site-packages (1.24.2)\n",
      "Requirement already satisfied: pandas in d:\\coding\\feed-forward-neural-network\\venv\\lib\\site-packages (2.0.0)\n",
      "Requirement already satisfied: graphviz in d:\\coding\\feed-forward-neural-network\\venv\\lib\\site-packages (0.20.1)\n",
      "Requirement already satisfied: python-dateutil>=2.8.2 in d:\\coding\\feed-forward-neural-network\\venv\\lib\\site-packages (from pandas) (2.8.2)\n",
      "Requirement already satisfied: tzdata>=2022.1 in d:\\coding\\feed-forward-neural-network\\venv\\lib\\site-packages (from pandas) (2023.3)\n",
      "Requirement already satisfied: pytz>=2020.1 in d:\\coding\\feed-forward-neural-network\\venv\\lib\\site-packages (from pandas) (2023.2)\n",
      "Requirement already satisfied: six>=1.5 in d:\\coding\\feed-forward-neural-network\\venv\\lib\\site-packages (from python-dateutil>=2.8.2->pandas) (1.16.0)\n",
      "Note: you may need to restart the kernel to use updated packages.\n"
     ]
    }
   ],
   "source": [
    "%pip install numpy pandas graphviz"
   ]
  },
  {
   "cell_type": "markdown",
   "metadata": {
    "id": "DPRZ_Jhf70Us"
   },
   "source": [
    "<h3><b>Class & Function</b></h3>"
   ]
  },
  {
   "cell_type": "markdown",
   "metadata": {
    "id": "bTndzbIg70Us"
   },
   "source": [
    "<b>Import</b>"
   ]
  },
  {
   "cell_type": "code",
   "execution_count": 2,
   "metadata": {
    "id": "TTGVBo6e70Us"
   },
   "outputs": [],
   "source": [
    "import math\n",
    "import numpy as np\n",
    "import json\n",
    "import os\n",
    "from graphviz import Digraph"
   ]
  },
  {
   "cell_type": "markdown",
   "metadata": {
    "id": "fwD39npi70Ut"
   },
   "source": [
    "<b>Activation</b>\n",
    "\n",
    "Class Activation adalah kelas yang berisi fungsi-fungsi aktivasi yang digunakan pada neural network. Fungsi-fungsi tersebut adalah linear, relu, sigmoid, dan softmax."
   ]
  },
  {
   "cell_type": "code",
   "execution_count": 3,
   "metadata": {
    "id": "csA8_AtN70Ut"
   },
   "outputs": [],
   "source": [
    "class Activation:\n",
    "    LINEAR = \"linear\"\n",
    "    RELU = \"relu\"\n",
    "    SIGMOID = \"sigmoid\"\n",
    "    SOFTMAX = \"softmax\"\n",
    "\n",
    "    def __init__(self, mode) -> None:\n",
    "        self.mode = mode\n",
    "\n",
    "    def __linear_calculate(self, res):\n",
    "        return res\n",
    "\n",
    "    def __sigmoid_calculate(self, res):\n",
    "        res = np.array([(1 / (1 + pow(math.e, -x))) for x in res])\n",
    "        return res\n",
    "\n",
    "    def __relu_calculate(self, res):\n",
    "        res[res < 0] = 0\n",
    "        return res\n",
    "\n",
    "    def __softmax_calculate(self, res):\n",
    "        numerator = np.array([pow(math.e, x) for x in res])\n",
    "        denominator = np.sum([pow(math.e, x) for x in res])\n",
    "        return numerator / denominator\n",
    "\n",
    "    def calculate(self, x, w, b):\n",
    "        res = np.matmul(x, w)\n",
    "        res = np.add(res, b)\n",
    "        if self.mode == Activation.LINEAR:\n",
    "            return self.__linear_calculate(res)\n",
    "        elif self.mode == Activation.RELU:\n",
    "            return self.__relu_calculate(res)\n",
    "        elif self.mode == Activation.SIGMOID:\n",
    "            return self.__sigmoid_calculate(res)\n",
    "        elif self.mode == Activation.SOFTMAX:\n",
    "            return self.__softmax_calculate(res)\n",
    "        else:\n",
    "            raise Exception(\n",
    "                \"Mode is not implemented, please select correct mode\")\n",
    "\n",
    "    def predict(self, res):\n",
    "        if self.mode == Activation.LINEAR:\n",
    "            return res\n",
    "        elif self.mode == Activation.RELU:\n",
    "            return res\n",
    "        elif self.mode == Activation.SIGMOID:\n",
    "            return res\n",
    "        elif self.mode == Activation.SOFTMAX:\n",
    "            return res\n",
    "        else:\n",
    "            raise Exception(\n",
    "                \"Mode is not implemented, please select correct mode\")"
   ]
  },
  {
   "cell_type": "markdown",
   "metadata": {
    "id": "W4XHLZS270Uu"
   },
   "source": [
    "<b>Reader</b>\n",
    "\n",
    "Class Reader adalah kelas yang berfungsi untuk membaca berkas json yang berisi model FFNN."
   ]
  },
  {
   "cell_type": "code",
   "execution_count": 4,
   "metadata": {
    "id": "fNM8KP0e70Uu"
   },
   "outputs": [],
   "source": [
    "ACTIVATION_LIST = [Activation.LINEAR, Activation.RELU,\n",
    "                   Activation.SIGMOID, Activation.SOFTMAX]\n",
    "\n",
    "\n",
    "class Reader:\n",
    "    def __init__(self) -> None:\n",
    "        pass\n",
    "\n",
    "    \"\"\" \n",
    "    FFNN models are json like\n",
    "    \"\"\"\n",
    "    @staticmethod\n",
    "    def read_ffnn(filepath):\n",
    "        try:\n",
    "            with open(filepath, \"rb\") as f:\n",
    "                json_file = json.loads(f.read())\n",
    "                # Return models\n",
    "                if validate_data(json_file):\n",
    "                    return json_file\n",
    "                return None\n",
    "        except OSError as e:\n",
    "            print(\"File not found\")\n",
    "            os._exit(-1)\n",
    "\n",
    "\n",
    "def validate_data(json_data) -> bool:\n",
    "    # Validate layers\n",
    "    layers = json_data['layers']\n",
    "    activation_functions = np.array(\n",
    "        json_data['activation_functions'], dtype=np.string_)\n",
    "\n",
    "    # Neurons are input hidden output\n",
    "    neurons = np.array(json_data['neurons'], dtype=np.int32)\n",
    "    weights = json_data['weights']\n",
    "    rows = json_data['rows']\n",
    "    data = np.array(json_data['data'], dtype=np.float64)\n",
    "    data_names = np.array(json_data['data_names'], dtype=np.string_)\n",
    "    target_names = np.array(json_data['target_names'], dtype=np.string_)\n",
    "    target = np.array(json_data['target'], dtype=np.int32)\n",
    "    max_sse = json_data['max_sse']\n",
    "\n",
    "    if not isinstance(layers, int):\n",
    "        raise Exception(\"Layers is not integer\")\n",
    "\n",
    "    # Validate activation function per layers\n",
    "    if activation_functions.shape[0] != layers - 1:\n",
    "        raise Exception(\"Length of activation functions is not the same\")\n",
    "\n",
    "    for function in activation_functions:\n",
    "        if function.decode() not in ACTIVATION_LIST:\n",
    "            raise Exception(\"Invalid activation functions\")\n",
    "\n",
    "    # # Validate neurons\n",
    "    if neurons.shape[0] != layers:\n",
    "        raise Exception(\"Neurons number don't match with layers\")\n",
    "\n",
    "    assert neurons.dtype == np.int32\n",
    "\n",
    "    # Validate weights, weights must be layers - 1\n",
    "    if len(weights) != layers - 1:\n",
    "        raise Exception(\"Please input correct weights\")\n",
    "\n",
    "    for index, weight_per_neuron in enumerate(weights):\n",
    "        for weight_neuron in weight_per_neuron:\n",
    "            if len(weight_neuron) != neurons[index] + 1:\n",
    "                raise Exception(\n",
    "                    f\"Invalid number of weights parameter in weight {index}\")\n",
    "            np.array(weight_neuron, dtype=np.float64)\n",
    "\n",
    "    # Validate rows\n",
    "    if not isinstance(rows, int):\n",
    "        raise Exception(\"Rows is not integer\")\n",
    "\n",
    "    # data_names\n",
    "    len_data_features = data_names.shape[0]\n",
    "    assert np.issubdtype(data_names.dtype, np.string_) == True\n",
    "\n",
    "    # data attr\n",
    "    if data.shape[0] != rows:\n",
    "        raise Exception(\"Number of data doesn't match with rows\")\n",
    "\n",
    "    if data.shape[1] != len_data_features:\n",
    "        raise Exception(\"Number of data columns doesnt match\")\n",
    "\n",
    "    assert np.issubdtype(target_names.dtype, np.string_) == True\n",
    "    assert target.shape[0] == rows\n",
    "\n",
    "    if not isinstance(max_sse, float):\n",
    "        raise Exception(\"Please input correct sse\")\n",
    "\n",
    "    return True"
   ]
  },
  {
   "cell_type": "markdown",
   "metadata": {
    "id": "TGSM1RKq70Uv"
   },
   "source": [
    "<b>FFNN Algorithm</b>\n",
    "\n",
    "Class FFNN adalah kelas yang berfungsi untuk mengimplementasikan algoritma forward propagation pada FFNN."
   ]
  },
  {
   "cell_type": "code",
   "execution_count": 5,
   "metadata": {
    "id": "kujSFF_970Uv"
   },
   "outputs": [],
   "source": [
    "class FFNN:\n",
    "    def __init__(self, model) -> None:\n",
    "        self.layers = model['layers']\n",
    "        self.activation_functions = np.array(model['activation_functions'])\n",
    "        self.neurons = np.array(model['neurons'])\n",
    "        self.weights = model['weights']\n",
    "        self.rows = model['rows']\n",
    "        self.data_names = np.array(model['data_names'])\n",
    "        self.data = np.array(model['data'])\n",
    "        self.target = np.array(model['target'])\n",
    "        self.target_names = np.array(model['target_names'])\n",
    "        self.output = None\n",
    "        self.max_sse = model[\"max_sse\"]\n",
    "        pass\n",
    "\n",
    "    def __str__(self) -> str:\n",
    "        return f\"\\\n",
    "  Layers: {self.layers}\\n\\\n",
    "  Activations: {self.activation_functions}\\n\\\n",
    "  Neurons: {self.neurons}\\n\\\n",
    "  Weights: {self.weights}\\n\\\n",
    "  Rows: {self.rows}\\n\\\n",
    "  Data: {self.data}\\n\\\n",
    "  Data_names: {self.data_names}\\n\\\n",
    "  target: {self.target}\\n\\\n",
    "  target_names: {self.target_names}\\n\\\n",
    "  max_sse: {self.max_sse}\\n\"\n",
    "\n",
    "    # Will return output functions\n",
    "    def compute(self):\n",
    "        res = self.data\n",
    "        for i in range(self.layers - 1):\n",
    "            activation_function = Activation(self.activation_functions[i])\n",
    "            transposed_weights = np.transpose(np.array(self.weights[i]))\n",
    "            weights, bias = self.separate_bias(transposed_weights)\n",
    "            res = activation_function.calculate(res, weights, bias)\n",
    "\n",
    "        self.output = res\n",
    "        return res\n",
    "\n",
    "    def separate_bias(self, data):\n",
    "        bias = data[0, :]\n",
    "        weight = data[1:, :]\n",
    "        return weight, bias\n",
    "\n",
    "    def predict(self):\n",
    "        A = Activation(self.activation_functions[-1])\n",
    "        res = A.predict(self.output)\n",
    "        sse = self._calculate_sse()\n",
    "        print(f\"\\\n",
    "  Data Names: {self.data_names}\\n\\\n",
    "  Data: {self.data}\\n\\\n",
    "  Target Names: {self.target_names}\\n\\\n",
    "  Target: {self.target}\\n\\\n",
    "  Predictions: {res}\\n\\\n",
    "  SSE: {sse}\\n\\\n",
    "  isValid: {[s < self.max_sse for s in sse]} ( < 1e-6)\\n\")\n",
    "\n",
    "    def _calculate_sse(self):\n",
    "        sse = 0\n",
    "        for i in range(len(self.output)):\n",
    "            sse += pow(self.output[i] - self.target[i], 2)\n",
    "        sse = sse / len(self.target)\n",
    "        return sse\n"
   ]
  },
  {
   "cell_type": "markdown",
   "metadata": {
    "id": "1BAuW-l270Uv"
   },
   "source": [
    "<b>Graph</b>\n",
    "\n",
    "Class Graph adalah kelas yang berfungsi untuk menggambar grafik dari hasil forward propagation."
   ]
  },
  {
   "cell_type": "code",
   "execution_count": 6,
   "metadata": {
    "id": "A-av2U2170Uw"
   },
   "outputs": [],
   "source": [
    "class Graph:\n",
    "    def __init__(self, ffnn: FFNN, filename: str) -> None:\n",
    "        self.ffnn = ffnn\n",
    "        self.filename = filename\n",
    "        self.f = Digraph(\n",
    "            'G', filename=f'./res/{self.filename}_graph', format='png')\n",
    "\n",
    "    def draw(self):\n",
    "        self.f.attr('node', shape='circle')\n",
    "        self._add_node()\n",
    "        self._add_edge()\n",
    "        self.f.view()\n",
    "        return self.f\n",
    "\n",
    "    def _add_node(self):\n",
    "        # Add input nodes\n",
    "        self.f.node(\"b1\")\n",
    "        for data_name in self.ffnn.data_names:\n",
    "            self.f.node(data_name)\n",
    "\n",
    "        # Add nodes in the next layers\n",
    "        for layer in range(1, self.ffnn.layers - 1):\n",
    "            self.f.node(f\"b{layer+1}\")\n",
    "            for j in range(self.ffnn.neurons[layer]):\n",
    "                self.f.node(f\"h{layer}{j+1}\")\n",
    "\n",
    "    def _add_edge(self):\n",
    "        # Add edges between layers\n",
    "        layers = self.ffnn.layers\n",
    "\n",
    "        for layer in range(layers - 1):\n",
    "            transposed_weights = np.transpose(\n",
    "                np.array(self.ffnn.weights[layer]))\n",
    "            weights, bias = self.ffnn.separate_bias(transposed_weights)\n",
    "\n",
    "            # Add edges between bias and hidden layer or output\n",
    "            for i in range(len(bias)):\n",
    "                if layers == 2:\n",
    "                    bias_name = f\"b{layer+1}\"\n",
    "                    end = f\"y{i+1}\"\n",
    "                else:\n",
    "                    bias_name = f\"b{layer+1}\"\n",
    "                    end = f\"h{layer+1}{i+1}\"\n",
    "                    if layer == self.ffnn.layers - 2:\n",
    "                        end = f\"y{i+1}\"\n",
    "\n",
    "                self.f.edge(bias_name, end, label=f\"{bias[i]}\")\n",
    "\n",
    "            # Add edges between input and hidden layer or output\n",
    "            for i in range(self.ffnn.neurons[layer]):\n",
    "                for j in range(len(weights[i])):\n",
    "                    if layers == 2:\n",
    "                        start = self.ffnn.data_names[i]\n",
    "                        end = f\"y{j+1}\"\n",
    "                    elif layer == 0:\n",
    "                        start = self.ffnn.data_names[i]\n",
    "                        end = f\"h{layer+1}{j+1}\"\n",
    "                    elif layer == self.ffnn.layers - 2:\n",
    "                        start = f\"h{layer}{i+1}\"\n",
    "                        end = f\"y{j+1}\"\n",
    "                    else:\n",
    "                        start = f\"h{layer}{i+1}\"\n",
    "                        end = f\"h{layer+1}{j+1}\"\n",
    "                    self.f.edge(start, end, label=f\"{weights[i][j]}\")\n"
   ]
  },
  {
   "cell_type": "markdown",
   "metadata": {
    "id": "OhG2G3xB70Uw"
   },
   "source": [
    "<h3><b>Main Program</b></h3>"
   ]
  },
  {
   "cell_type": "code",
   "execution_count": 7,
   "metadata": {
    "colab": {
     "base_uri": "https://localhost:8080/"
    },
    "id": "guLieLXS70Uw",
    "outputId": "c0156af5-0122-425e-c8a6-69e2b99b7f88"
   },
   "outputs": [
    {
     "name": "stdout",
     "output_type": "stream",
     "text": [
      "=============================================\n",
      "        FEED FORWARD NEURAL NETWORK\n",
      "=============================================\n",
      "  Data Names: ['x1' 'x2']\n",
      "  Data: [[3. 1.]]\n",
      "  Target Names: ['false' 'true']\n",
      "  Target: [[ 2.   0.3 -1.9]]\n",
      "  Predictions: [[ 2.   0.3 -1.9]]\n",
      "  SSE: [0.00000000e+00 3.08148791e-33 0.00000000e+00]\n",
      "  isValid: [True, True, True] ( < 1e-6)\n",
      "\n",
      "=============================================\n",
      "Graph is saved in folder res with name: linear_graph.png\n",
      "=============================================\n"
     ]
    },
    {
     "data": {
      "image/svg+xml": [
       "<?xml version=\"1.0\" encoding=\"UTF-8\" standalone=\"no\"?>\n",
       "<!DOCTYPE svg PUBLIC \"-//W3C//DTD SVG 1.1//EN\"\n",
       " \"http://www.w3.org/Graphics/SVG/1.1/DTD/svg11.dtd\">\n",
       "<!-- Generated by graphviz version 7.1.0 (20230121.1956)\n",
       " -->\n",
       "<!-- Title: G Pages: 1 -->\n",
       "<svg width=\"344pt\" height=\"138pt\"\n",
       " viewBox=\"0.00 0.00 343.73 138.29\" xmlns=\"http://www.w3.org/2000/svg\" xmlns:xlink=\"http://www.w3.org/1999/xlink\">\n",
       "<g id=\"graph0\" class=\"graph\" transform=\"scale(1 1) rotate(0) translate(4 134.29)\">\n",
       "<title>G</title>\n",
       "<polygon fill=\"white\" stroke=\"none\" points=\"-4,4 -4,-134.29 339.73,-134.29 339.73,4 -4,4\"/>\n",
       "<!-- b1 -->\n",
       "<g id=\"node1\" class=\"node\">\n",
       "<title>b1</title>\n",
       "<ellipse fill=\"none\" stroke=\"black\" cx=\"78.73\" cy=\"-110.14\" rx=\"20.3\" ry=\"20.3\"/>\n",
       "<text text-anchor=\"middle\" x=\"78.73\" y=\"-106.44\" font-family=\"Times New Roman,serif\" font-size=\"14.00\">b1</text>\n",
       "</g>\n",
       "<!-- y1 -->\n",
       "<g id=\"node4\" class=\"node\">\n",
       "<title>y1</title>\n",
       "<ellipse fill=\"none\" stroke=\"black\" cx=\"128.73\" cy=\"-19.5\" rx=\"19.5\" ry=\"19.5\"/>\n",
       "<text text-anchor=\"middle\" x=\"128.73\" y=\"-15.8\" font-family=\"Times New Roman,serif\" font-size=\"14.00\">y1</text>\n",
       "</g>\n",
       "<!-- b1&#45;&gt;y1 -->\n",
       "<g id=\"edge1\" class=\"edge\">\n",
       "<title>b1&#45;&gt;y1</title>\n",
       "<path fill=\"none\" stroke=\"black\" d=\"M87.84,-91.64C93.22,-81.46 100.22,-68.43 106.73,-57 108.69,-53.55 110.79,-49.94 112.9,-46.4\"/>\n",
       "<polygon fill=\"black\" stroke=\"black\" points=\"115.77,-48.42 117.92,-38.05 109.77,-44.82 115.77,-48.42\"/>\n",
       "<text text-anchor=\"middle\" x=\"115.73\" y=\"-60.8\" font-family=\"Times New Roman,serif\" font-size=\"14.00\">0.2</text>\n",
       "</g>\n",
       "<!-- y2 -->\n",
       "<g id=\"node5\" class=\"node\">\n",
       "<title>y2</title>\n",
       "<ellipse fill=\"none\" stroke=\"black\" cx=\"42.73\" cy=\"-19.5\" rx=\"19.5\" ry=\"19.5\"/>\n",
       "<text text-anchor=\"middle\" x=\"42.73\" y=\"-15.8\" font-family=\"Times New Roman,serif\" font-size=\"14.00\">y2</text>\n",
       "</g>\n",
       "<!-- b1&#45;&gt;y2 -->\n",
       "<g id=\"edge2\" class=\"edge\">\n",
       "<title>b1&#45;&gt;y2</title>\n",
       "<path fill=\"none\" stroke=\"black\" d=\"M58.55,-105.46C40.43,-100.97 14.86,-91.43 2.73,-72 -4.92,-59.75 4.97,-46.93 16.83,-37.14\"/>\n",
       "<polygon fill=\"black\" stroke=\"black\" points=\"18.87,-39.99 24.81,-31.21 14.69,-34.37 18.87,-39.99\"/>\n",
       "<text text-anchor=\"middle\" x=\"11.73\" y=\"-60.8\" font-family=\"Times New Roman,serif\" font-size=\"14.00\">0.3</text>\n",
       "</g>\n",
       "<!-- y3 -->\n",
       "<g id=\"node6\" class=\"node\">\n",
       "<title>y3</title>\n",
       "<ellipse fill=\"none\" stroke=\"black\" cx=\"251.73\" cy=\"-19.5\" rx=\"19.5\" ry=\"19.5\"/>\n",
       "<text text-anchor=\"middle\" x=\"251.73\" y=\"-15.8\" font-family=\"Times New Roman,serif\" font-size=\"14.00\">y3</text>\n",
       "</g>\n",
       "<!-- b1&#45;&gt;y3 -->\n",
       "<g id=\"edge3\" class=\"edge\">\n",
       "<title>b1&#45;&gt;y3</title>\n",
       "<path fill=\"none\" stroke=\"black\" d=\"M94.98,-97.33C99.29,-94.61 104.05,-91.94 108.73,-90 142.37,-75.98 155.96,-87.96 188.73,-72 189.9,-71.42 210.82,-54.26 228.24,-39.91\"/>\n",
       "<polygon fill=\"black\" stroke=\"black\" points=\"230.25,-42.78 235.73,-33.72 225.79,-37.39 230.25,-42.78\"/>\n",
       "<text text-anchor=\"middle\" x=\"215.73\" y=\"-60.8\" font-family=\"Times New Roman,serif\" font-size=\"14.00\">0.1</text>\n",
       "</g>\n",
       "<!-- x1 -->\n",
       "<g id=\"node2\" class=\"node\">\n",
       "<title>x1</title>\n",
       "<ellipse fill=\"none\" stroke=\"black\" cx=\"292.73\" cy=\"-110.14\" rx=\"19.5\" ry=\"19.5\"/>\n",
       "<text text-anchor=\"middle\" x=\"292.73\" y=\"-106.44\" font-family=\"Times New Roman,serif\" font-size=\"14.00\">x1</text>\n",
       "</g>\n",
       "<!-- x1&#45;&gt;y1 -->\n",
       "<g id=\"edge4\" class=\"edge\">\n",
       "<title>x1&#45;&gt;y1</title>\n",
       "<path fill=\"none\" stroke=\"black\" d=\"M286.54,-91.23C281.73,-79.85 273.97,-65.68 262.73,-57 246.63,-44.58 193.61,-32.68 159.28,-26.01\"/>\n",
       "<polygon fill=\"black\" stroke=\"black\" points=\"159.97,-22.58 149.5,-24.16 158.67,-29.46 159.97,-22.58\"/>\n",
       "<text text-anchor=\"middle\" x=\"284.73\" y=\"-60.8\" font-family=\"Times New Roman,serif\" font-size=\"14.00\">0.5</text>\n",
       "</g>\n",
       "<!-- x1&#45;&gt;y2 -->\n",
       "<g id=\"edge5\" class=\"edge\">\n",
       "<title>x1&#45;&gt;y2</title>\n",
       "<path fill=\"none\" stroke=\"black\" d=\"M273.51,-105.85C248.04,-100.96 202.17,-90.34 166.73,-72 157.17,-67.05 157.16,-62.17 147.73,-57 140.85,-53.23 100.43,-39.55 71.8,-30.05\"/>\n",
       "<polygon fill=\"black\" stroke=\"black\" points=\"73.15,-26.81 62.56,-27 70.96,-33.46 73.15,-26.81\"/>\n",
       "<text text-anchor=\"middle\" x=\"175.73\" y=\"-60.8\" font-family=\"Times New Roman,serif\" font-size=\"14.00\">0.2</text>\n",
       "</g>\n",
       "<!-- x1&#45;&gt;y3 -->\n",
       "<g id=\"edge6\" class=\"edge\">\n",
       "<title>x1&#45;&gt;y3</title>\n",
       "<path fill=\"none\" stroke=\"black\" d=\"M304.66,-94.43C311.85,-83.66 318.43,-68.92 311.73,-57 305,-45.03 292.59,-36.54 280.8,-30.77\"/>\n",
       "<polygon fill=\"black\" stroke=\"black\" points=\"282.27,-27.59 271.71,-26.82 279.48,-34.01 282.27,-27.59\"/>\n",
       "<text text-anchor=\"middle\" x=\"324.73\" y=\"-60.8\" font-family=\"Times New Roman,serif\" font-size=\"14.00\">&#45;0.8</text>\n",
       "</g>\n",
       "<!-- x2 -->\n",
       "<g id=\"node3\" class=\"node\">\n",
       "<title>x2</title>\n",
       "<ellipse fill=\"none\" stroke=\"black\" cx=\"136.73\" cy=\"-110.14\" rx=\"19.5\" ry=\"19.5\"/>\n",
       "<text text-anchor=\"middle\" x=\"136.73\" y=\"-106.44\" font-family=\"Times New Roman,serif\" font-size=\"14.00\">x2</text>\n",
       "</g>\n",
       "<!-- x2&#45;&gt;y1 -->\n",
       "<g id=\"edge7\" class=\"edge\">\n",
       "<title>x2&#45;&gt;y1</title>\n",
       "<path fill=\"none\" stroke=\"black\" d=\"M132.62,-90.72C131.47,-84.77 130.36,-78.13 129.73,-72 129.01,-65.04 128.64,-57.54 128.46,-50.46\"/>\n",
       "<polygon fill=\"black\" stroke=\"black\" points=\"131.97,-50.61 128.36,-40.65 124.97,-50.69 131.97,-50.61\"/>\n",
       "<text text-anchor=\"middle\" x=\"138.73\" y=\"-60.8\" font-family=\"Times New Roman,serif\" font-size=\"14.00\">0.3</text>\n",
       "</g>\n",
       "<!-- x2&#45;&gt;y2 -->\n",
       "<g id=\"edge8\" class=\"edge\">\n",
       "<title>x2&#45;&gt;y2</title>\n",
       "<path fill=\"none\" stroke=\"black\" d=\"M120.95,-98.33C116.71,-95.53 112.08,-92.58 107.73,-90 93.02,-81.28 86.14,-83.75 73.73,-72 66.51,-65.16 60.37,-56.28 55.5,-47.83\"/>\n",
       "<polygon fill=\"black\" stroke=\"black\" points=\"58.71,-46.41 50.93,-39.23 52.53,-49.7 58.71,-46.41\"/>\n",
       "<text text-anchor=\"middle\" x=\"84.73\" y=\"-60.8\" font-family=\"Times New Roman,serif\" font-size=\"14.00\">&#45;0.6</text>\n",
       "</g>\n",
       "<!-- x2&#45;&gt;y3 -->\n",
       "<g id=\"edge9\" class=\"edge\">\n",
       "<title>x2&#45;&gt;y3</title>\n",
       "<path fill=\"none\" stroke=\"black\" d=\"M156.22,-105.92C176.9,-101.56 209.33,-91.92 229.73,-72 236.04,-65.83 240.64,-57.57 243.95,-49.46\"/>\n",
       "<polygon fill=\"black\" stroke=\"black\" points=\"247.21,-50.75 247.2,-40.16 240.6,-48.44 247.21,-50.75\"/>\n",
       "<text text-anchor=\"middle\" x=\"249.73\" y=\"-60.8\" font-family=\"Times New Roman,serif\" font-size=\"14.00\">0.4</text>\n",
       "</g>\n",
       "</g>\n",
       "</svg>\n"
      ],
      "text/plain": [
       "<graphviz.graphs.Digraph at 0x23f130d0670>"
      ]
     },
     "execution_count": 7,
     "metadata": {},
     "output_type": "execute_result"
    }
   ],
   "source": [
    "print(\"=============================================\")\n",
    "print(\"        FEED FORWARD NEURAL NETWORK\")\n",
    "print(\"=============================================\")\n",
    "filename = input(\"Input filename inside test folder: \")\n",
    "\n",
    "path = \"./test/\"\n",
    "model = Reader.read_ffnn(path + filename)\n",
    "\n",
    "ffnn = FFNN(model=model)\n",
    "ffnn.compute()\n",
    "ffnn.predict()\n",
    "\n",
    "filename = filename.split(\".\")[0]\n",
    "graph = Graph(ffnn, filename)\n",
    "\n",
    "print(\"=============================================\")\n",
    "print(\"Graph is saved in folder res with name: \" +\n",
    "      filename + \"_graph.png\")\n",
    "print(\"=============================================\")\n",
    "graph.draw()"
   ]
  }
 ],
 "metadata": {
  "colab": {
   "provenance": []
  },
  "kernelspec": {
   "display_name": "Python 3",
   "language": "python",
   "name": "python3"
  },
  "language_info": {
   "codemirror_mode": {
    "name": "ipython",
    "version": 3
   },
   "file_extension": ".py",
   "mimetype": "text/x-python",
   "name": "python",
   "nbconvert_exporter": "python",
   "pygments_lexer": "ipython3",
   "version": "3.8.2"
  },
  "vscode": {
   "interpreter": {
    "hash": "e31aef8222fb7c235d2ed8e74ce17e973738f89b37261e7466b7a63a6dfb1214"
   }
  }
 },
 "nbformat": 4,
 "nbformat_minor": 4
}
